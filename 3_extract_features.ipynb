{
 "cells": [
  {
   "cell_type": "code",
   "execution_count": 1,
   "id": "8b9f9c6f-53ab-4a95-a7a0-87c4fe2241c3",
   "metadata": {},
   "outputs": [],
   "source": [
    "#!pip install pefile\n",
    "#!pip install openpyxl"
   ]
  },
  {
   "cell_type": "code",
   "execution_count": 2,
   "id": "c0986620-57fa-4266-9e43-21ecc5afe722",
   "metadata": {},
   "outputs": [
    {
     "name": "stdout",
     "output_type": "stream",
     "text": [
      "Python 3.10.5\n"
     ]
    }
   ],
   "source": [
    "# Developed with Python version 3.10.5\n",
    "!python --version"
   ]
  },
  {
   "cell_type": "code",
   "execution_count": 3,
   "id": "87d1e31d-c8f0-4997-9a84-f561ae63c58a",
   "metadata": {},
   "outputs": [],
   "source": [
    "import pefile\n",
    "from pprint import pprint\n",
    "import os\n",
    "import glob\n",
    "import pandas as pd"
   ]
  },
  {
   "cell_type": "markdown",
   "id": "8027b41d-dd71-4787-b8cb-76b968cbd3b1",
   "metadata": {},
   "source": [
    "# Functions"
   ]
  },
  {
   "cell_type": "code",
   "execution_count": 4,
   "id": "72aa9340-ebf0-4c15-b63e-25271b20939f",
   "metadata": {},
   "outputs": [],
   "source": [
    "def extract_features(clean_files_path, class_value):\n",
    "    data = []\n",
    "    \n",
    "    for path in clean_files_path:\n",
    "        try:\n",
    "            pe = pefile.PE(path)\n",
    "            \n",
    "            ## feature extractions\n",
    "            features = []\n",
    "            # 1. Sections\n",
    "            features.extend(dir(pe))\n",
    "            \n",
    "            # 2. Imported dlls\n",
    "            if pe.DIRECTORY_ENTRY_IMPORT:\n",
    "                features.extend([entry.dll.decode('utf-8') for entry in pe.DIRECTORY_ENTRY_IMPORT])\n",
    "                \n",
    "            ## cleaning\n",
    "            features = [entry.replace('.','_') for entry in features]\n",
    "            \n",
    "            ## stringify\n",
    "            features_str = ' '.join(features)\n",
    "            \n",
    "            data.append({'File': path.split('\\\\')[-1], 'PeStructure': features_str, 'Class': class_value})\n",
    "\n",
    "        except Exception as e:\n",
    "            print(\"PEFormatError: %s\" % e, path.split('\\\\')[-1])\n",
    "            \n",
    "    return data"
   ]
  },
  {
   "cell_type": "markdown",
   "id": "1cc58ebc-7d9c-4ddd-90b4-f9c8b3ff37f3",
   "metadata": {},
   "source": [
    "# Extract features from the clean files"
   ]
  },
  {
   "cell_type": "code",
   "execution_count": 5,
   "id": "71f652d1-88ec-433b-8ad3-e276ca3c7811",
   "metadata": {},
   "outputs": [],
   "source": [
    "clean_path = os.path.join(os.getcwd(), '0')\n"
   ]
  },
  {
   "cell_type": "code",
   "execution_count": 6,
   "id": "24579824-bf14-4a22-a7a8-8cabb26284a4",
   "metadata": {},
   "outputs": [
    {
     "data": {
      "text/plain": [
       "['00ELuByj9iSRf5Rx11Ypl15N6kS2FXmW.dll',\n",
       " '00Tree.html',\n",
       " '01nCLd7AG7XAlI0JH9G2E3rFbuahjIaD.dll',\n",
       " '025bvHOe4jNeyFreKPOzrL42kZf9igIi.dll',\n",
       " '02sRriSJXuQGFgx2CpAWSWMlRZHUMemA.dll']"
      ]
     },
     "execution_count": 6,
     "metadata": {},
     "output_type": "execute_result"
    }
   ],
   "source": [
    "clean_files = os.listdir(clean_path)\n",
    "clean_files[:5]"
   ]
  },
  {
   "cell_type": "code",
   "execution_count": 7,
   "id": "8dee0c85-29e0-493f-9179-bb55d5937fb2",
   "metadata": {},
   "outputs": [
    {
     "data": {
      "text/plain": [
       "['C:\\\\Users\\\\User2\\\\Desktop\\\\NordSecurity\\\\0\\\\00ELuByj9iSRf5Rx11Ypl15N6kS2FXmW.dll',\n",
       " 'C:\\\\Users\\\\User2\\\\Desktop\\\\NordSecurity\\\\0\\\\01nCLd7AG7XAlI0JH9G2E3rFbuahjIaD.dll',\n",
       " 'C:\\\\Users\\\\User2\\\\Desktop\\\\NordSecurity\\\\0\\\\025bvHOe4jNeyFreKPOzrL42kZf9igIi.dll',\n",
       " 'C:\\\\Users\\\\User2\\\\Desktop\\\\NordSecurity\\\\0\\\\02sRriSJXuQGFgx2CpAWSWMlRZHUMemA.dll',\n",
       " 'C:\\\\Users\\\\User2\\\\Desktop\\\\NordSecurity\\\\0\\\\03qLFrBnvZyyCMls133h0I1n6chSuU0N.dll']"
      ]
     },
     "execution_count": 7,
     "metadata": {},
     "output_type": "execute_result"
    }
   ],
   "source": [
    "clean_files_path = []\n",
    "for file in clean_files:\n",
    "    if file.split('.')[-1] in ['exe', 'dll']:\n",
    "        clean_files_path.append(os.path.join(clean_path, file))\n",
    "\n",
    "clean_files_path[:5]"
   ]
  },
  {
   "cell_type": "code",
   "execution_count": 8,
   "id": "3569aff3-abea-4626-a04f-f73f8b355200",
   "metadata": {},
   "outputs": [
    {
     "name": "stdout",
     "output_type": "stream",
     "text": [
      "PEFormatError: 'DOS Header magic not found.' 00ELuByj9iSRf5Rx11Ypl15N6kS2FXmW.dll\n",
      "PEFormatError: 'DOS Header magic not found.' 03xFH66ZwZHBFU4BehtgYdPnLDmsVRbt.dll\n",
      "PEFormatError: 'PE' object has no attribute 'DIRECTORY_ENTRY_IMPORT' 04OedY8viaNBFEDv26n08fU2GnfxxmFv.dll\n",
      "PEFormatError: 'DOS Header magic not found.' 07wFclZXJNUWH2xD2wEEzqoS3y5IMZ4P.dll\n",
      "PEFormatError: 'DOS Header magic not found.' 0A8phAkPI7mn6GvZaaqwozxu2cGo4ueg.exe\n",
      "PEFormatError: 'PE' object has no attribute 'DIRECTORY_ENTRY_IMPORT' 0AE3mQJnCYWWOaRS16TJ5LAENzpavhUj.dll\n",
      "PEFormatError: 'DOS Header magic not found.' 0B38xQpWO8UJl0V0hCCMzSxCbtjnrpfx.dll\n",
      "PEFormatError: 'DOS Header magic not found.' 0cwj8FURlEx0Zq20GfxV2lKgpwXoQ6vr.dll\n",
      "PEFormatError: 'PE' object has no attribute 'DIRECTORY_ENTRY_IMPORT' 0DtRUfsg5PzSVSE6o63QUwhf2Ikhi5yo.dll\n",
      "PEFormatError: 'DOS Header magic not found.' 0H7c9CDig77XOAcrjXbuvjMB5fwDxp5H.dll\n",
      "PEFormatError: 'DOS Header magic not found.' 0hC1XeWeZPOZvH4PCemgBScQgI7SYDDY.dll\n",
      "PEFormatError: 'DOS Header magic not found.' 0hq30pv8o3FcNqTELVfTEQVjtoWKP8M9.dll\n",
      "PEFormatError: 'DOS Header magic not found.' 0iDOR4T6b7T3Hv4C0858dkdF8hvOepRA.dll\n",
      "PEFormatError: 'DOS Header magic not found.' 0jkmGxWZrND3J0e8TUeZCEZVBUiVzR5r.dll\n",
      "PEFormatError: 'DOS Header magic not found.' 0k21xXTUDPlGdxr5bEUXY7mJZdg2eDv2.dll\n",
      "PEFormatError: 'DOS Header magic not found.' 0KuqxKeAxnIPCR8qrk8CuwimQ2mLWeby.dll\n",
      "PEFormatError: 'DOS Header magic not found.' 0MEMWa2PuNNihmegnzez4SbzfH5AC1l8.dll\n",
      "PEFormatError: 'PE' object has no attribute 'DIRECTORY_ENTRY_IMPORT' 0moMdoDKf7KLbKGh9Lpdgju1bRfU1ZI6.dll\n",
      "PEFormatError: 'DOS Header magic not found.' 0MrhfIalj8s4tqAylCOh3pA03gt51qrH.exe\n",
      "PEFormatError: 'DOS Header magic not found.' 0nSdKHBhwhmfPOHrdDHPX4txe90gF5nB.exe\n",
      "PEFormatError: 'DOS Header magic not found.' 0nV8WUKB20PDg18x5wyD8BWuVQIkp9Cb.dll\n",
      "PEFormatError: 'DOS Header magic not found.' 0nYXhBkucjEcmLtRUBlzVQBPoMJMvh5m.exe\n",
      "PEFormatError: 'PE' object has no attribute 'DIRECTORY_ENTRY_IMPORT' 0oSq7Lxy8b7HyNC1X0F7XkHzOfe4YYUe.dll\n",
      "PEFormatError: 'PE' object has no attribute 'DIRECTORY_ENTRY_IMPORT' 0pEBdMyNYPJisoU4MgbWBvPWOVksPshg.dll\n",
      "PEFormatError: 'PE' object has no attribute 'DIRECTORY_ENTRY_IMPORT' 0SO8TGJfGpJqcyJfb9P12ftZmVBCi0SL.exe\n",
      "PEFormatError: 'DOS Header magic not found.' 0WPbgwBqIxVL5geREPbcIipRGml69qAk.dll\n",
      "PEFormatError: 'PE' object has no attribute 'DIRECTORY_ENTRY_IMPORT' 0wtSGl4jI9w0PsmFbGYF6I5wrQ6JejQo.dll\n",
      "PEFormatError: 'DOS Header magic not found.' 0XWEQxtIuV41lFGgCXkgDD8iwCtiEGDi.dll\n",
      "PEFormatError: 'DOS Header magic not found.' 0ylUOOsIL3ObzLa7uER60cx6yNGINalU.dll\n",
      "PEFormatError: 'DOS Header magic not found.' 0yY7hPOL1eanzywJkn48UQ6XhO2wwodq.dll\n",
      "PEFormatError: 'DOS Header magic not found.' 106EMBXRgcEnoYyher9RE31oZkDoAA3x.dll\n",
      "PEFormatError: 'DOS Header magic not found.' 10Tqa2aaMM4qvBWfnAqlEFbB9Rgdgf93.dll\n",
      "PEFormatError: 'DOS Header magic not found.' 13JuK3jLQRBwl7AXHqohHEzvlWkt1IHl.dll\n",
      "PEFormatError: 'DOS Header magic not found.' 13scGE3KPABNOKzVbL2PIbz1WkI0xqVj.dll\n",
      "PEFormatError: 'DOS Header magic not found.' 14DBhi1lcigl3XfoQYydKzOvzZP0u5r3.exe\n",
      "PEFormatError: 'DOS Header magic not found.' 14e3Ms3rPD4VnGrc5ftF7pYqCNXBp89r.dll\n",
      "PEFormatError: 'Invalid NT Headers signature. Probably a NE file' 154ZhQiEn8ui8nnQBdeuOw6PSonVbanU.dll\n",
      "PEFormatError: 'PE' object has no attribute 'DIRECTORY_ENTRY_IMPORT' 15f4zZyUUxwWWNN48Ggn4BUyk7W3ymc1.dll\n",
      "PEFormatError: 'DOS Header magic not found.' 17bkuqs160zIjgKiXYiND5lIICB6ol79.dll\n",
      "PEFormatError: 'DOS Header magic not found.' 1aI3g4xGtiyEu0jIzcPfXGdjbBIwWz0H.dll\n",
      "PEFormatError: 'DOS Header magic not found.' 1BeZkrqNs3jl7Hv7280l3jCeav1ZVPzt.dll\n",
      "PEFormatError: 'DOS Header magic not found.' 1BsrCc5sDqhWckODkyJZm3WMASEOQLKJ.dll\n",
      "PEFormatError: 'PE' object has no attribute 'DIRECTORY_ENTRY_IMPORT' 1BwbFeZt1Q8LpSwtzPjJtYiCueo0ANea.exe\n",
      "PEFormatError: 'PE' object has no attribute 'DIRECTORY_ENTRY_IMPORT' 1c6qDwvawHvaLex2UZLImISLFxWxdoAs.dll\n",
      "PEFormatError: 'DOS Header magic not found.' 1diGokO7NqkD7k6gEOYygQmqC7wMgcSn.dll\n",
      "PEFormatError: 'DOS Header magic not found.' 1EBjpxmRDwhYcyI0UhRBAJxUYhxIERZU.dll\n",
      "PEFormatError: 'PE' object has no attribute 'DIRECTORY_ENTRY_IMPORT' 1EgHro6GVPULU6E4wse79sXmcYPvMghg.dll\n",
      "PEFormatError: 'DOS Header magic not found.' 1Ex8TIt0w3IqNJsu8oKEC6YEks1edCS0.dll\n",
      "PEFormatError: 'PE' object has no attribute 'DIRECTORY_ENTRY_IMPORT' 1fDqgpkQUh9SaPu09GoNtJlEMTLmAtN0.dll\n",
      "PEFormatError: 'DOS Header magic not found.' 1gMJaESsImaBSrWhxT1t4KfsWyEWf9lL.dll\n",
      "PEFormatError: 'PE' object has no attribute 'DIRECTORY_ENTRY_IMPORT' 1IHbMxZSCaZZjJOJc7PdXWrKzXVCeizn.dll\n",
      "PEFormatError: 'DOS Header magic not found.' 1IvWrZMGtYxG041vFlTYoAjfniqLP3CO.dll\n",
      "PEFormatError: 'DOS Header magic not found.' 1keMYagcsjjlZFz9Cm0Swu40P0kd3jVw.dll\n",
      "PEFormatError: 'PE' object has no attribute 'DIRECTORY_ENTRY_IMPORT' 1lqXcdKKwRGccqFIQv5ZcCHzQER8DIas.exe\n",
      "PEFormatError: 'DOS Header magic not found.' 1mML7MmOn04iiUfkPB3owJ81uhtqCWz8.exe\n",
      "PEFormatError: 'DOS Header magic not found.' 1mrsvtz3ABYGlBLvBJWSkPS45thSmFul.dll\n",
      "PEFormatError: 'DOS Header magic not found.' 1n5sgbX1HW7CyBZ32LpM2PApWouRXWhO.dll\n",
      "PEFormatError: 'DOS Header magic not found.' 1nM63ANdO8UwNLYgBFAdX1XN5BWP16Qn.dll\n",
      "PEFormatError: 'DOS Header magic not found.' 1ph8aA6OxPAk9RCiyFGUh1usIuw3ln4V.dll\n",
      "PEFormatError: 'DOS Header magic not found.' 1ps0bJtvUyPzPUOGJIxVNjk1IskL9Uue.dll\n",
      "PEFormatError: 'PE' object has no attribute 'DIRECTORY_ENTRY_IMPORT' 1QycASDwyhIUdVfwRa8rqpgUNCbPqxVm.dll\n",
      "PEFormatError: 'PE' object has no attribute 'DIRECTORY_ENTRY_IMPORT' 1RIEzkR9OXTPuIECpgtPT4qnOS2JeTMR.dll\n",
      "PEFormatError: 'PE' object has no attribute 'DIRECTORY_ENTRY_IMPORT' 1RljxQthENPXRwuMxjkUKd83ZNjVOW1F.dll\n",
      "PEFormatError: 'PE' object has no attribute 'DIRECTORY_ENTRY_IMPORT' 1S2mvr347Owlf8QgygSiG0JhUaW0VzYJ.dll\n",
      "PEFormatError: 'PE' object has no attribute 'DIRECTORY_ENTRY_IMPORT' 1SDHaRob1W6yRAMUhIus5dTGQizZ0Ha1.dll\n",
      "PEFormatError: 'PE' object has no attribute 'DIRECTORY_ENTRY_IMPORT' 1SF6xDfNOjqWNWQadxDLYBf7DO5v1NZE.dll\n",
      "PEFormatError: 'DOS Header magic not found.' 1VihJ2A78szPGApSgTnRnDs9unYbYxGf.dll\n",
      "PEFormatError: 'DOS Header magic not found.' 1ZUTCTXokSOqpJYezHLGGd5R9reXvQUL.dll\n",
      "PEFormatError: 'DOS Header magic not found.' 23qM3UAbuGUGIn6VcV9M7HRVe1RbLZKl.dll\n",
      "PEFormatError: 'DOS Header magic not found.' 23XEfmJQkYSjVKZCGIAZeIlidIl456Ho.dll\n",
      "PEFormatError: 'DOS Header magic not found.' 24DAen9DCB2hNPzsAV19UHuezGeUHeMp.dll\n",
      "PEFormatError: 'DOS Header magic not found.' 24ZHhIdG2CEl8MLcMnzdjXD8tTg6g2ZD.dll\n",
      "PEFormatError: 'DOS Header magic not found.' 25OemEdrrMgziq7dyHqZLm4DN1BkuTJe.dll\n",
      "PEFormatError: 'PE' object has no attribute 'DIRECTORY_ENTRY_IMPORT' 25s4QBQ1gM9Ho3pOaC3QUVUqwZLbgaFH.dll\n",
      "PEFormatError: 'DOS Header magic not found.' 26JEtCnaxHmWZhVro3N30B6heB9yumsX.dll\n",
      "PEFormatError: 'DOS Header magic not found.' 26jt83hGtiTnsyKo54QJpZGtNs81tjRF.exe\n",
      "PEFormatError: 'DOS Header magic not found.' 2c6o1zBDlBt4QVVru5Zr5JpSIvck5i3i.dll\n",
      "PEFormatError: 'DOS Header magic not found.' 2CgOj0bv8F53ZqHbbYpSEmEBSGgAW6ip.dll\n",
      "PEFormatError: 'DOS Header magic not found.' 2HofriP3AnsQVdaBCo4PH9jk6y4Qcgds.dll\n",
      "PEFormatError: 'PE' object has no attribute 'DIRECTORY_ENTRY_IMPORT' 2iLuTJ8oLF65RNoak2917Jg6BGqOuBnL.dll\n",
      "PEFormatError: 'PE' object has no attribute 'DIRECTORY_ENTRY_IMPORT' 2ItnZcsZvljfYqwz9nlr0XubT2NRTcxc.dll\n",
      "PEFormatError: 'PE' object has no attribute 'DIRECTORY_ENTRY_IMPORT' 2IVT8irNFoxVMPUWE32YaoUGuNrCl7xf.dll\n",
      "PEFormatError: 'DOS Header magic not found.' 2k47CagQqBWHHdX4JdOoas0uLNabvTzX.dll\n",
      "PEFormatError: 'DOS Header magic not found.' 2k7xfZ3LIDtZ0zkRPMc4BeZhFTnNMmJu.exe\n",
      "PEFormatError: 'PE' object has no attribute 'DIRECTORY_ENTRY_IMPORT' 2kvYXxkNHsW1tHT7IZ3eiBZCPATsYn1q.dll\n",
      "PEFormatError: 'DOS Header magic not found.' 2KyO14OCeJjtQmKbCNAQp7BJGFRzabky.dll\n",
      "PEFormatError: 'PE' object has no attribute 'DIRECTORY_ENTRY_IMPORT' 2lOMbmB0Ph7Le2p6AwethguSRDnGJeKr.dll\n",
      "PEFormatError: 'PE' object has no attribute 'DIRECTORY_ENTRY_IMPORT' 2lsYwjYBrioEF3Qg90YiGNpbDjXOlVhn.dll\n",
      "PEFormatError: 'DOS Header magic not found.' 2OQ0lXERBUB1bYAY3AJW7rqehnsD46bx.dll\n",
      "PEFormatError: 'DOS Header magic not found.' 2osYAWKgqGhmIi4F22gvrzU5KgogecPx.exe\n",
      "PEFormatError: 'PE' object has no attribute 'DIRECTORY_ENTRY_IMPORT' 2P2qjlXWe3H75gt6agJQZFuWrsfnokhy.dll\n",
      "PEFormatError: 'DOS Header magic not found.' 2Q6M9DNn3EA4E4DjuLzYb5mbsrG1LvYY.dll\n",
      "PEFormatError: 'DOS Header magic not found.' 2QZmXCyEmAVfsVuKMfrHDct77kUZxkeS.dll\n",
      "PEFormatError: 'DOS Header magic not found.' 2rtjL9bVzzkQqKbWQT8ZzbBrjpEeUYQq.dll\n",
      "PEFormatError: 'PE' object has no attribute 'DIRECTORY_ENTRY_IMPORT' 2tV1anROAi9MvIvnk2u7I2nZd7c4eiLa.exe\n",
      "PEFormatError: 'PE' object has no attribute 'DIRECTORY_ENTRY_IMPORT' 2y6lATh4iFKWfvCwV1i89UORs145ykYe.dll\n",
      "PEFormatError: 'DOS Header magic not found.' 303PlTEm73P5XYsZv3boHzE87kTCn9Si.exe\n",
      "PEFormatError: 'PE' object has no attribute 'DIRECTORY_ENTRY_IMPORT' 32eeuYQcLjgC7hTCEfzcoVR8c2fcC5Tt.exe\n",
      "PEFormatError: 'DOS Header magic not found.' 34YOwlgh9aizgdVY5mlrLD8LmHZDXP0D.dll\n",
      "PEFormatError: 'DOS Header magic not found.' 39vTKMabI0NFJN7mfkheEZ5uRebCpeNr.dll\n",
      "PEFormatError: 'PE' object has no attribute 'DIRECTORY_ENTRY_IMPORT' 3aXDMTU8dGrnf10suCAdvWBNypvlFEl3.dll\n",
      "PEFormatError: 'PE' object has no attribute 'DIRECTORY_ENTRY_IMPORT' 3E8j6lwu0cTPHvZ3hy3ozSQe6CybWMT9.dll\n",
      "PEFormatError: 'PE' object has no attribute 'DIRECTORY_ENTRY_IMPORT' 3g6menfYZsaEerkWHZvvX5yG8pSZyydI.dll\n",
      "PEFormatError: 'DOS Header magic not found.' 3gGdOCCglNCqXjaEgZIheVY2f8t5yM7k.dll\n",
      "PEFormatError: 'DOS Header magic not found.' 3H21Zjlq2rlI0IVi6Bag2k9NsoW1s35I.dll\n",
      "PEFormatError: 'DOS Header magic not found.' 3HOQ4Px9o4xadWJ0hFRyVcQvnIwpudXm.exe\n",
      "PEFormatError: 'PE' object has no attribute 'DIRECTORY_ENTRY_IMPORT' 3hSggJHnWXkvyFKqpYI4Spj1qM1OKaAO.dll\n",
      "PEFormatError: 'DOS Header magic not found.' 3iRIpFofWNGaPf0ZEALMv2jZRTaR4R8P.dll\n",
      "PEFormatError: 'DOS Header magic not found.' 3Jnm4xSpYJm8Ng6Q2kpCsPy6sLHKJ6DY.dll\n",
      "PEFormatError: 'DOS Header magic not found.' 3kMRLuPDtV6gmF0dbwpapLBOn0N4LCVp.dll\n",
      "PEFormatError: 'PE' object has no attribute 'DIRECTORY_ENTRY_IMPORT' 3laRS4XhFwEC5Rfj2MtD7PrbRCGmeGdc.dll\n",
      "PEFormatError: 'DOS Header magic not found.' 3llGhXUy87B3UvRxnIJyOWF0HqbsCg8J.dll\n",
      "PEFormatError: 'DOS Header magic not found.' 3lvCX8xi1WXjBbbbYYpz8NlLwQ3ndrqR.dll\n",
      "PEFormatError: 'DOS Header magic not found.' 3LzZGBr5waZDGGQ0r1ucDBlqknClCaCi.dll\n",
      "PEFormatError: 'DOS Header magic not found.' 3nVkmG6SiXF5mCwunxSN03c11vazreh4.exe\n",
      "PEFormatError: 'DOS Header magic not found.' 3OI4QTubNlGcfpptT9gpH7rpWTNrHNBP.dll\n",
      "PEFormatError: 'PE' object has no attribute 'DIRECTORY_ENTRY_IMPORT' 3pRcptGog8FDrSsvSoZ16TteIDrQk7AB.dll\n",
      "PEFormatError: 'DOS Header magic not found.' 3QD75NlSPQ9JMJ7e1lL8TmDvVDqKZCse.dll\n",
      "PEFormatError: 'DOS Header magic not found.' 3qgNKMvVse463df1gVkdxTNoN0RuLjLv.dll\n",
      "PEFormatError: 'PE' object has no attribute 'DIRECTORY_ENTRY_IMPORT' 3QMg6MMtu29G3pRftCzGvX6cCpYi6iOU.dll\n",
      "PEFormatError: 'DOS Header magic not found.' 3rw8e6h4FQDNlSxSwGPJJ4J7vaAffJsO.dll\n",
      "PEFormatError: 'PE' object has no attribute 'DIRECTORY_ENTRY_IMPORT' 3uYLZfw8fXen8fzU5dgsMdC8cgC1YFFP.dll\n",
      "PEFormatError: 'DOS Header magic not found.' 3uz43naCWC7kXJYo3IZaNasrlhswwOGX.dll\n",
      "PEFormatError: 'DOS Header magic not found.' 3x5nOdwU961YsA4GQzwMiq7H1VAz6rVY.dll\n",
      "PEFormatError: 'PE' object has no attribute 'DIRECTORY_ENTRY_IMPORT' 3XduSF956Ep74HdWA07yMrsNwHaR6cwI.dll\n",
      "PEFormatError: 'DOS Header magic not found.' 3XKDTICriPKF1mW0oGU8dvJYbj5TIytb.dll\n",
      "PEFormatError: 'PE' object has no attribute 'DIRECTORY_ENTRY_IMPORT' 3ySdhQycFAbwxAWqhyOE1wNe8VlGMhRh.dll\n",
      "PEFormatError: 'DOS Header magic not found.' 3ywrjhVZCvKlSEDAAxA5aEEExq3ZhUhw.dll\n",
      "PEFormatError: 'DOS Header magic not found.' 3ZVYpjAAuCepb1NPCfxGwsNOMH5WPN0j.dll\n",
      "PEFormatError: 'PE' object has no attribute 'DIRECTORY_ENTRY_IMPORT' 43tGbZuoafqk21J3i6IZU2BDM0AzEedB.dll\n",
      "PEFormatError: 'PE' object has no attribute 'DIRECTORY_ENTRY_IMPORT' 45AVIu5ZhR2G99TDAnAF7vEoUNQK7BCF.dll\n",
      "PEFormatError: 'DOS Header magic not found.' 461ynjLRHBzkqjd731Utp16ezyf7wLSz.dll\n",
      "PEFormatError: 'PE' object has no attribute 'DIRECTORY_ENTRY_IMPORT' 46nT0NcNJZcHPx4vhgsnC0tkGxLy3j31.dll\n",
      "PEFormatError: 'PE' object has no attribute 'DIRECTORY_ENTRY_IMPORT' 46zVDyyTC6TRWj1dbrhjKQpEsoBHNPH6.dll\n",
      "PEFormatError: 'DOS Header magic not found.' 47nWiK3dc2zOyFoTdP1eqFYTYciBqc8S.dll\n",
      "PEFormatError: 'DOS Header magic not found.' 487xc6qr68shRn66bfUQAwSn8iSrNcHq.dll\n",
      "PEFormatError: 'DOS Header magic not found.' 48fZreaW2GIdRJXzI7hj6eiC2T1iOesi.dll\n",
      "PEFormatError: 'DOS Header magic not found.' 494vNBEdd4Nny0Q5N1kAj754tcRlLLw5.exe\n",
      "PEFormatError: 'DOS Header magic not found.' 49AmelgSGCbJyi4i4XcFF7zLjfi98i9v.dll\n",
      "PEFormatError: 'DOS Header magic not found.' 49yG2WliqpiMt5BrROIbLmd82drLbpYS.dll\n",
      "PEFormatError: 'DOS Header magic not found.' 4acCHftmGXKred19S6KEeGkQ03oMTUeL.dll\n",
      "PEFormatError: 'DOS Header magic not found.' 4AH6V8gE31pBE3DgSUb8w34U8RaqFJnV.dll\n",
      "PEFormatError: 'DOS Header magic not found.' 4bohaxwEfv4oMKfxlVcGOK1vRtUytSkz.dll\n",
      "PEFormatError: 'PE' object has no attribute 'DIRECTORY_ENTRY_IMPORT' 4bQdmElAUAxetTl4d7SFTZAfltEcaEyD.dll\n",
      "PEFormatError: 'DOS Header magic not found.' 4cDXP4lhOqfwDKgpu0fQlsOVYawmUyMk.exe\n",
      "PEFormatError: 'DOS Header magic not found.' 4ealGh0HFCX1F6daG4K3DS3AOkacKUeu.dll\n",
      "PEFormatError: 'DOS Header magic not found.' 4EWjKw5Ch0SooZUuVKyTxMx7xBQ8xCty.dll\n",
      "PEFormatError: 'DOS Header magic not found.' 4EZv1aBkuhIEtqErKl5hBIT21VnzPk8S.dll\n",
      "PEFormatError: 'DOS Header magic not found.' 4fxTKFQHw3nMC1tAeGTud8udNAc7Pei4.dll\n",
      "PEFormatError: 'PE' object has no attribute 'DIRECTORY_ENTRY_IMPORT' 4G80z15Lchzb1PLhsNl1veJI37sibTY4.dll\n",
      "PEFormatError: 'PE' object has no attribute 'DIRECTORY_ENTRY_IMPORT' 4gFPQgecXYwwM1W7kSA4K2ucfUOa9TrH.dll\n",
      "PEFormatError: 'DOS Header magic not found.' 4hwugV8Nk0tLQj8jFWb5ZUNvFO0zsaiU.dll\n",
      "PEFormatError: 'DOS Header magic not found.' 4iBllzRxkLyjFdQTKHhSOhsWHQLqF145.dll\n",
      "PEFormatError: 'PE' object has no attribute 'DIRECTORY_ENTRY_IMPORT' 4JLn9cM76xDvn6gqKC8fj65PWiO3egmm.dll\n",
      "PEFormatError: 'DOS Header magic not found.' 4lKDN3TEjR8UKJyz5flUuOzYlAni7tFN.dll\n",
      "PEFormatError: 'PE' object has no attribute 'DIRECTORY_ENTRY_IMPORT' 4OFi9T4pL7qL2dh3MG7lGhmjOcAoLwwp.dll\n",
      "PEFormatError: 'DOS Header magic not found.' 4OSpmYyisg63zWtKpwuduOPjaSF1Vv4G.dll\n",
      "PEFormatError: 'PE' object has no attribute 'DIRECTORY_ENTRY_IMPORT' 4ptuSOI2s6GNu5YTzQGkMq6cEjamzcd7.dll\n",
      "PEFormatError: 'DOS Header magic not found.' 4q0UXoj92OV5WD2Lrq0sFNJp0EkBIDNG.exe\n",
      "PEFormatError: 'DOS Header magic not found.' 4s70A15JtBJlEdcgeGGNubA3ipmJPSBO.dll\n",
      "PEFormatError: 'PE' object has no attribute 'DIRECTORY_ENTRY_IMPORT' 4SpuCxWQzpY3buKh8ZDdPQ6Wx5UVQT0V.dll\n",
      "PEFormatError: 'DOS Header magic not found.' 4t7kkwJVRZXQwmNqmdXiLwjnSIFJzKwv.dll\n",
      "PEFormatError: 'DOS Header magic not found.' 4tOWbqLF2rlsNjfzeWoQAlrLCBVb4icM.dll\n",
      "PEFormatError: 'DOS Header magic not found.' 4UNuRddQR3GGVdrzGLLGvEaU03g0EK41.exe\n",
      "PEFormatError: 'DOS Header magic not found.' 4VAVs9eHpDvMesDfCOvVy575Y44NrTGV.exe\n",
      "PEFormatError: 'DOS Header magic not found.' 4VjO6ZMpQ2x19F3ftB6t1qKOo7P6PS0A.dll\n",
      "PEFormatError: 'DOS Header magic not found.' 4yI1zj9yU8D7iLOXsdA4uXDlZpwRONtG.dll\n",
      "PEFormatError: 'DOS Header magic not found.' 4zKUDBfwy2iYVtgvaiDIAAg1MVJUA1Km.dll\n",
      "PEFormatError: 'DOS Header magic not found.' 50AaqnDf2oIXip7jcxfuNAH8GFDe8RWN.exe\n",
      "PEFormatError: 'DOS Header magic not found.' 51jtcxo1qk8hDpEO5B4gqbXoqXLTO0K9.dll\n",
      "PEFormatError: 'DOS Header magic not found.' 56ZCJfZ1w1vTL9BUsHY4z087uFwz94zK.dll\n",
      "PEFormatError: 'DOS Header magic not found.' 57SBWi34lYEHA0Az7R83lTtaTifWKdL9.dll\n",
      "PEFormatError: 'DOS Header magic not found.' 5aeGCLtIi9CazXiqJPjiu4a0UjGcqxQ1.dll\n",
      "PEFormatError: 'DOS Header magic not found.' 5aer54Fijmdk8HDVm8rBplS1MhNb1Nyo.exe\n",
      "PEFormatError: 'DOS Header magic not found.' 5Ci2KSgFA47vPzAH8p7Nm4cei8BWDV6a.exe\n",
      "PEFormatError: 'DOS Header magic not found.' 5EghZLYu71q3DFjH2hW5SLOrDOhd6bxw.dll\n",
      "PEFormatError: 'PE' object has no attribute 'DIRECTORY_ENTRY_IMPORT' 5eUpocP1gCgQm8rPWjntHD7si0otSn3R.dll\n",
      "PEFormatError: 'DOS Header magic not found.' 5fyjRfE9HxFOlzBPGAVS1wyqi58YCBrw.dll\n",
      "PEFormatError: 'PE' object has no attribute 'DIRECTORY_ENTRY_IMPORT' 5hNCkZ1OEtXpusrRK4GO0vSEi1RRUMIJ.dll\n",
      "PEFormatError: 'DOS Header magic not found.' 5HZPv5ka7aZwyoIlW4Dpwktr1u9eD6Za.dll\n",
      "PEFormatError: 'DOS Header magic not found.' 5jpi9ZM7qe779584RbGcoUQ4DekNy099.dll\n",
      "PEFormatError: 'DOS Header magic not found.' 5Lb2ktDjjaxIPFsfxMJynffacSSCJQzY.dll\n",
      "PEFormatError: 'DOS Header magic not found.' 5LtpWNEApGB6GhKyI3FuIah0C45KgDuY.dll\n",
      "PEFormatError: 'PE' object has no attribute 'DIRECTORY_ENTRY_IMPORT' 5pO7gceN0T5gqTsI98MIuO95aqrFksMc.dll\n",
      "PEFormatError: 'DOS Header magic not found.' 5RqlEqCiKJ2E6WZMfJq0vE5O1v8VI21S.dll\n",
      "PEFormatError: 'DOS Header magic not found.' 5uFNXQNfDCD5yGFJV9WyuNJ37DyTcMJf.dll\n",
      "PEFormatError: 'PE' object has no attribute 'DIRECTORY_ENTRY_IMPORT' 5uPcSJtZGWDm0To55iLCuRpLOZQISmlR.dll\n",
      "PEFormatError: 'PE' object has no attribute 'DIRECTORY_ENTRY_IMPORT' 5V4Ww51G33paksypeNACFDBqGbFlCHF6.dll\n",
      "PEFormatError: 'DOS Header magic not found.' 5V518StzI6VPjGQIHcfzpmAWt5p7HCui.dll\n",
      "PEFormatError: 'DOS Header magic not found.' 5vcNCLYwrjaqjmbUqzSnYuLLQPWH0EC1.dll\n",
      "PEFormatError: 'DOS Header magic not found.' 5VsKz8Jr4HO8t7xUq2D4M7CRkVmREMyY.dll\n",
      "PEFormatError: 'DOS Header magic not found.' 5wg40NVFRO0hgPKL6pmWZwN1EgSt7Nej.dll\n",
      "PEFormatError: 'PE' object has no attribute 'DIRECTORY_ENTRY_IMPORT' 5Y7NOFbE8lOEwlpoJsBbyUbTl8NbxSmL.dll\n",
      "PEFormatError: 'DOS Header magic not found.' 5YmOGBgBihxgmnPD6nBqOSx4PyGLtRTG.exe\n",
      "PEFormatError: 'DOS Header magic not found.' 5ZVYh4orReQJBq3Zjzcjvdf7wiKngIJC.dll\n",
      "PEFormatError: 'DOS Header magic not found.' 60fEFVM1kwCaqicMP6fRN4bX76lW7XTx.dll\n",
      "PEFormatError: 'PE' object has no attribute 'DIRECTORY_ENTRY_IMPORT' 62l2sjgl4MEvNUSwr0mxTQrXbeuPg89z.dll\n",
      "PEFormatError: 'DOS Header magic not found.' 62oAacb9bHgf4wIdJZGUYg1mQR0P6JJ8.dll\n",
      "PEFormatError: 'DOS Header magic not found.' 62VqZFf5VLmiNYEEt8TlyV08AMysW10d.exe\n",
      "PEFormatError: 'DOS Header magic not found.' 63o31ZS69m0KqTT3JcX3dOZb1UBa52mP.dll\n",
      "PEFormatError: 'DOS Header magic not found.' 64iRzBVlj2KSMgUNTn11zlpypddrsCWe.exe\n"
     ]
    }
   ],
   "source": [
    "clean_extraction = extract_features(clean_files_path, 0)"
   ]
  },
  {
   "cell_type": "markdown",
   "id": "bb7aabcf-045d-40a9-b368-782c58c75b25",
   "metadata": {},
   "source": [
    "Note - many exceptions while reading structure of the executables. A separate investigatoin is needed."
   ]
  },
  {
   "cell_type": "code",
   "execution_count": 9,
   "id": "c545dce9-5ff7-46f3-a3d4-59c528505146",
   "metadata": {},
   "outputs": [
    {
     "data": {
      "text/plain": [
       "770"
      ]
     },
     "execution_count": 9,
     "metadata": {},
     "output_type": "execute_result"
    }
   ],
   "source": [
    "len(clean_extraction)"
   ]
  },
  {
   "cell_type": "code",
   "execution_count": 10,
   "id": "4b60d082-713d-4bf5-9cf4-1750f145785f",
   "metadata": {},
   "outputs": [
    {
     "data": {
      "text/plain": [
       "[{'File': '0484nLtEv6qs9TXB0IAAIA0EgktHKeIX.dll',\n",
       "  'PeStructure': 'DIRECTORY_ENTRY_BASERELOC DIRECTORY_ENTRY_DEBUG DIRECTORY_ENTRY_DELAY_IMPORT DIRECTORY_ENTRY_EXCEPTION DIRECTORY_ENTRY_EXPORT DIRECTORY_ENTRY_IMPORT DIRECTORY_ENTRY_LOAD_CONFIG DIRECTORY_ENTRY_RESOURCE DOS_HEADER FILE_HEADER FileAlignment_Warning FileInfo NT_HEADERS OPTIONAL_HEADER PE_TYPE RICH_HEADER SectionAlignment_Warning VS_FIXEDFILEINFO VS_VERSIONINFO _PE__from_file _PE__resource_size_limit_reached _PE__resource_size_limit_upperbounds _PE__total_import_symbols _PE__total_resource_bytes _PE__total_resource_entries_count _PE__warnings __IMAGE_BASE_RELOCATION_ENTRY_format__ __IMAGE_BASE_RELOCATION_format__ __IMAGE_BOUND_FORWARDER_REF_format__ __IMAGE_BOUND_IMPORT_DESCRIPTOR_format__ __IMAGE_DATA_DIRECTORY_format__ __IMAGE_DEBUG_DIRECTORY_format__ __IMAGE_DELAY_IMPORT_DESCRIPTOR_format__ __IMAGE_DOS_HEADER_format__ __IMAGE_EXPORT_DIRECTORY_format__ __IMAGE_FILE_HEADER_format__ __IMAGE_IMPORT_DESCRIPTOR_format__ __IMAGE_LOAD_CONFIG_DIRECTORY64_format__ __IMAGE_LOAD_CONFIG_DIRECTORY_format__ __IMAGE_NT_HEADERS_format__ __IMAGE_OPTIONAL_HEADER64_format__ __IMAGE_OPTIONAL_HEADER_format__ __IMAGE_RESOURCE_DATA_ENTRY_format__ __IMAGE_RESOURCE_DIRECTORY_ENTRY_format__ __IMAGE_RESOURCE_DIRECTORY_format__ __IMAGE_SECTION_HEADER_format__ __IMAGE_THUNK_DATA64_format__ __IMAGE_THUNK_DATA_format__ __IMAGE_TLS_DIRECTORY64_format__ __IMAGE_TLS_DIRECTORY_format__ __RUNTIME_FUNCTION_format__ __StringFileInfo_format__ __StringTable_format__ __String_format__ __VS_FIXEDFILEINFO_format__ __VS_VERSIONINFO_format__ __Var_format__ __class__ __data__ __delattr__ __dict__ __dir__ __doc__ __enter__ __eq__ __exit__ __format__ __ge__ __getattribute__ __gt__ __hash__ __init__ __init_subclass__ __le__ __lt__ __module__ __ne__ __new__ __parse__ __reduce__ __reduce_ex__ __repr__ __setattr__ __sizeof__ __str__ __structures__ __subclasshook__ __unpack_data__ __weakref__ _get_section_by_rva_last_used adjust_FileAlignment adjust_SectionAlignment close dump_dict dump_info dword_align fileno full_load generate_checksum get_bytes_from_data get_data get_data_from_dword get_data_from_qword get_data_from_word get_dword_at_rva get_dword_from_data get_dword_from_offset get_imphash get_import_table get_memory_mapped_image get_offset_from_rva get_overlay get_overlay_data_start_offset get_physical_by_rva get_qword_at_rva get_qword_from_data get_qword_from_offset get_resources_strings get_rich_header_hash get_rva_from_offset get_section_by_offset get_section_by_rva get_string_at_rva get_string_from_data get_string_u_at_rva get_warnings get_word_at_rva get_word_from_data get_word_from_offset has_relocs header is_dll is_driver is_exe max_repeated_symbol max_symbol_exports merge_modified_section_data normalize_import_va parse_data_directories parse_debug_directory parse_delay_import_directory parse_directory_bound_imports parse_directory_load_config parse_directory_tls parse_exceptions_directory parse_export_directory parse_import_directory parse_imports parse_relocations parse_relocations_directory parse_resource_data_entry parse_resource_entry parse_resources_directory parse_rich_header parse_sections parse_version_information print_info relocate_image sections set_bytes_at_offset set_bytes_at_rva set_data_bytes set_dword_at_offset set_dword_at_rva set_qword_at_offset set_qword_at_rva set_word_at_offset set_word_at_rva show_warnings trim verify_checksum write api-ms-win-crt-runtime-l1-1-0_dll api-ms-win-crt-private-l1-1-0_dll api-ms-win-crt-string-l1-1-0_dll api-ms-win-core-libraryloader-l1-2-0_dll api-ms-win-eventing-provider-l1-1-0_dll api-ms-win-core-errorhandling-l1-1-0_dll api-ms-win-core-profile-l1-1-0_dll api-ms-win-core-processthreads-l1-1-0_dll api-ms-win-core-sysinfo-l1-1-0_dll api-ms-win-core-interlocked-l1-1-0_dll api-ms-win-core-rtlsupport-l1-1-0_dll api-ms-win-core-debug-l1-1-0_dll api-ms-win-core-processthreads-l1-1-1_dll MdmCommon_DLL api-ms-win-core-registry-l1-1-0_dll api-ms-win-core-winrt-string-l1-1-0_dll api-ms-win-core-winrt-l1-1-0_dll OLEAUT32_dll api-ms-win-core-localization-l1-2-0_dll api-ms-win-core-heap-l1-1-0_dll api-ms-win-core-synch-l1-1-0_dll api-ms-win-core-handle-l1-1-0_dll api-ms-win-core-com-l1-1-0_dll api-ms-win-core-apiquery-l1-1-0_dll api-ms-win-core-memory-l1-1-0_dll',\n",
       "  'Class': 0}]"
      ]
     },
     "execution_count": 10,
     "metadata": {},
     "output_type": "execute_result"
    }
   ],
   "source": [
    "clean_extraction[5:6]"
   ]
  },
  {
   "cell_type": "code",
   "execution_count": 11,
   "id": "bb055fa7-5da1-4d04-9644-19969fbf6e31",
   "metadata": {},
   "outputs": [
    {
     "data": {
      "text/html": [
       "<div>\n",
       "<style scoped>\n",
       "    .dataframe tbody tr th:only-of-type {\n",
       "        vertical-align: middle;\n",
       "    }\n",
       "\n",
       "    .dataframe tbody tr th {\n",
       "        vertical-align: top;\n",
       "    }\n",
       "\n",
       "    .dataframe thead th {\n",
       "        text-align: right;\n",
       "    }\n",
       "</style>\n",
       "<table border=\"1\" class=\"dataframe\">\n",
       "  <thead>\n",
       "    <tr style=\"text-align: right;\">\n",
       "      <th></th>\n",
       "      <th>File</th>\n",
       "      <th>PeStructure</th>\n",
       "      <th>Class</th>\n",
       "    </tr>\n",
       "  </thead>\n",
       "  <tbody>\n",
       "    <tr>\n",
       "      <th>0</th>\n",
       "      <td>01nCLd7AG7XAlI0JH9G2E3rFbuahjIaD.dll</td>\n",
       "      <td>DIRECTORY_ENTRY_BASERELOC DIRECTORY_ENTRY_DEBU...</td>\n",
       "      <td>0</td>\n",
       "    </tr>\n",
       "    <tr>\n",
       "      <th>1</th>\n",
       "      <td>025bvHOe4jNeyFreKPOzrL42kZf9igIi.dll</td>\n",
       "      <td>DIRECTORY_ENTRY_BASERELOC DIRECTORY_ENTRY_DEBU...</td>\n",
       "      <td>0</td>\n",
       "    </tr>\n",
       "  </tbody>\n",
       "</table>\n",
       "</div>"
      ],
      "text/plain": [
       "                                   File  \\\n",
       "0  01nCLd7AG7XAlI0JH9G2E3rFbuahjIaD.dll   \n",
       "1  025bvHOe4jNeyFreKPOzrL42kZf9igIi.dll   \n",
       "\n",
       "                                         PeStructure  Class  \n",
       "0  DIRECTORY_ENTRY_BASERELOC DIRECTORY_ENTRY_DEBU...      0  \n",
       "1  DIRECTORY_ENTRY_BASERELOC DIRECTORY_ENTRY_DEBU...      0  "
      ]
     },
     "execution_count": 11,
     "metadata": {},
     "output_type": "execute_result"
    }
   ],
   "source": [
    "clean_df = pd.DataFrame(clean_extraction)\n",
    "clean_df[:2]"
   ]
  },
  {
   "cell_type": "markdown",
   "id": "fdc7aaaa-d354-4e3a-87a7-2e9081655ab9",
   "metadata": {},
   "source": [
    "# Extract features from the malicious files"
   ]
  },
  {
   "cell_type": "code",
   "execution_count": 12,
   "id": "f1fcc077-b403-4e6c-89f9-bdacbe518295",
   "metadata": {},
   "outputs": [],
   "source": [
    "malicious_path = os.path.join(os.getcwd(), '1')"
   ]
  },
  {
   "cell_type": "code",
   "execution_count": 13,
   "id": "ef39826e-614c-4c27-8fb9-5f159ebb7858",
   "metadata": {},
   "outputs": [
    {
     "data": {
      "text/plain": [
       "['00G8W57Cz6gRc0Xl41jSEMIFLR9iLDOx.exe',\n",
       " '00gYviABxsPRDDr8JrYKT6LUuWqpzHe0.exe',\n",
       " '00Nb1Q3mxXNb6fvAp3SrscnVWACdUwpM.exe',\n",
       " '00Tree.html',\n",
       " '017xEB9ZOAAG3VdYpTc0kBPzlh40cPab.exe']"
      ]
     },
     "execution_count": 13,
     "metadata": {},
     "output_type": "execute_result"
    }
   ],
   "source": [
    "malicious_files = os.listdir(malicious_path)\n",
    "malicious_files[:5]"
   ]
  },
  {
   "cell_type": "code",
   "execution_count": 14,
   "id": "1fff4d93-b2e4-474a-a513-81031d417f07",
   "metadata": {},
   "outputs": [
    {
     "data": {
      "text/plain": [
       "['C:\\\\Users\\\\User2\\\\Desktop\\\\NordSecurity\\\\1\\\\00G8W57Cz6gRc0Xl41jSEMIFLR9iLDOx.exe',\n",
       " 'C:\\\\Users\\\\User2\\\\Desktop\\\\NordSecurity\\\\1\\\\00gYviABxsPRDDr8JrYKT6LUuWqpzHe0.exe',\n",
       " 'C:\\\\Users\\\\User2\\\\Desktop\\\\NordSecurity\\\\1\\\\00Nb1Q3mxXNb6fvAp3SrscnVWACdUwpM.exe',\n",
       " 'C:\\\\Users\\\\User2\\\\Desktop\\\\NordSecurity\\\\1\\\\017xEB9ZOAAG3VdYpTc0kBPzlh40cPab.exe',\n",
       " 'C:\\\\Users\\\\User2\\\\Desktop\\\\NordSecurity\\\\1\\\\01KX3RaIsPgUolmbUpt1FCYGTUv8CkEW.exe']"
      ]
     },
     "execution_count": 14,
     "metadata": {},
     "output_type": "execute_result"
    }
   ],
   "source": [
    "malicious_files_path = []\n",
    "for file in malicious_files:\n",
    "    if file.split('.')[-1] in ['exe', 'dll']:\n",
    "        malicious_files_path.append(os.path.join(malicious_path, file))\n",
    "\n",
    "malicious_files_path[:5]"
   ]
  },
  {
   "cell_type": "code",
   "execution_count": 15,
   "id": "ad66afdd-5dbe-44dc-aa2c-2bc965b4b8f2",
   "metadata": {},
   "outputs": [
    {
     "name": "stdout",
     "output_type": "stream",
     "text": [
      "PEFormatError: 'PE' object has no attribute 'DIRECTORY_ENTRY_IMPORT' 0flxKcHpElilqWPICPbJlmZK8omspaNA.exe\n",
      "PEFormatError: 'PE' object has no attribute 'DIRECTORY_ENTRY_IMPORT' 0Rc77H3hd0Xk7ICTjKLSjyHII12HP4RV.exe\n",
      "PEFormatError: 'Invalid NT Headers signature.' 0SHJTuofoDcjnda4eAwx1TSRa2JJj0Ru.exe\n",
      "PEFormatError: 'PE' object has no attribute 'DIRECTORY_ENTRY_IMPORT' 1MLGsReVndRFW5w2xarpKjKXC7RmioHm.exe\n",
      "PEFormatError: 'PE' object has no attribute 'DIRECTORY_ENTRY_IMPORT' 1Pb8c9ITK0F1TTThFRKJQL8DsuK9SIec.exe\n",
      "PEFormatError: 'PE' object has no attribute 'DIRECTORY_ENTRY_IMPORT' 1TWIIFKtei8psAzcr1Ikx1xnbuIoU7jT.exe\n",
      "PEFormatError: 'PE' object has no attribute 'DIRECTORY_ENTRY_IMPORT' 1vy6RrtdIPEqSne7Czi5GuNBJ8vWkhCk.exe\n",
      "PEFormatError: 'PE' object has no attribute 'DIRECTORY_ENTRY_IMPORT' 1X3iRzF2XQgKSsudGxrHxdrh1lE3FBk1.exe\n",
      "PEFormatError: 'PE' object has no attribute 'DIRECTORY_ENTRY_IMPORT' 20o13UEllyKt1JAgKlQFiBioBVCqxfr9.exe\n",
      "PEFormatError: 'PE' object has no attribute 'DIRECTORY_ENTRY_IMPORT' 2ciAWMyHnhhuS6oCWcHS6b4QGGvPmC5O.exe\n",
      "PEFormatError: 'PE' object has no attribute 'DIRECTORY_ENTRY_IMPORT' 2mUYjcValJ5QCzDfYHc79wIA7XDAg7ym.exe\n",
      "PEFormatError: 'PE' object has no attribute 'DIRECTORY_ENTRY_IMPORT' 345MbdlrsXRIxocx5moyaggUVOTLJbzS.exe\n",
      "PEFormatError: 'PE' object has no attribute 'DIRECTORY_ENTRY_IMPORT' 3JBptXxiXp0iAdECPSe0IFfImnHtgHpa.dll\n",
      "PEFormatError: 'PE' object has no attribute 'DIRECTORY_ENTRY_IMPORT' 3MYvTfAvq9RdgpDSsJluYyVhwyZGtnOz.exe\n",
      "PEFormatError: 'Invalid NT Headers signature.' 3pfD3K8t3jzKYqYzwiWFAXjWkWSrRcI1.exe\n",
      "PEFormatError: 'PE' object has no attribute 'DIRECTORY_ENTRY_IMPORT' 46C8OyeUVILsxc6GiXrIqvkNUIFaQ1LJ.exe\n",
      "PEFormatError: 'PE' object has no attribute 'DIRECTORY_ENTRY_IMPORT' 4GB6HJYOdLgBm2MjWTSdnNQ8vkl0yGLW.exe\n",
      "PEFormatError: 'Invalid NT Headers signature.' 4H7a5lvbawr7uWn7NsaXaQFX0MDZqo0b.exe\n",
      "PEFormatError: 'PE' object has no attribute 'DIRECTORY_ENTRY_IMPORT' 4KtH9xFaBOvB7tcVemxpekFazOdoOYGX.exe\n"
     ]
    }
   ],
   "source": [
    "malicious_extraction = extract_features(malicious_files_path, 1)"
   ]
  },
  {
   "cell_type": "code",
   "execution_count": 16,
   "id": "c7d1eefa-1a5d-4086-b01e-306077d840a4",
   "metadata": {},
   "outputs": [
    {
     "data": {
      "text/plain": [
       "980"
      ]
     },
     "execution_count": 16,
     "metadata": {},
     "output_type": "execute_result"
    }
   ],
   "source": [
    "len(malicious_extraction)"
   ]
  },
  {
   "cell_type": "code",
   "execution_count": 17,
   "id": "3001108a-b731-4ca4-9156-999b77adb182",
   "metadata": {},
   "outputs": [
    {
     "data": {
      "text/plain": [
       "[{'File': '00G8W57Cz6gRc0Xl41jSEMIFLR9iLDOx.exe',\n",
       "  'PeStructure': 'DIRECTORY_ENTRY_IMPORT DIRECTORY_ENTRY_RESOURCE DOS_HEADER FILE_HEADER FileAlignment_Warning FileInfo NT_HEADERS OPTIONAL_HEADER PE_TYPE RICH_HEADER SectionAlignment_Warning VS_FIXEDFILEINFO VS_VERSIONINFO _PE__from_file _PE__resource_size_limit_reached _PE__resource_size_limit_upperbounds _PE__total_import_symbols _PE__total_resource_bytes _PE__total_resource_entries_count _PE__warnings __IMAGE_BASE_RELOCATION_ENTRY_format__ __IMAGE_BASE_RELOCATION_format__ __IMAGE_BOUND_FORWARDER_REF_format__ __IMAGE_BOUND_IMPORT_DESCRIPTOR_format__ __IMAGE_DATA_DIRECTORY_format__ __IMAGE_DEBUG_DIRECTORY_format__ __IMAGE_DELAY_IMPORT_DESCRIPTOR_format__ __IMAGE_DOS_HEADER_format__ __IMAGE_EXPORT_DIRECTORY_format__ __IMAGE_FILE_HEADER_format__ __IMAGE_IMPORT_DESCRIPTOR_format__ __IMAGE_LOAD_CONFIG_DIRECTORY64_format__ __IMAGE_LOAD_CONFIG_DIRECTORY_format__ __IMAGE_NT_HEADERS_format__ __IMAGE_OPTIONAL_HEADER64_format__ __IMAGE_OPTIONAL_HEADER_format__ __IMAGE_RESOURCE_DATA_ENTRY_format__ __IMAGE_RESOURCE_DIRECTORY_ENTRY_format__ __IMAGE_RESOURCE_DIRECTORY_format__ __IMAGE_SECTION_HEADER_format__ __IMAGE_THUNK_DATA64_format__ __IMAGE_THUNK_DATA_format__ __IMAGE_TLS_DIRECTORY64_format__ __IMAGE_TLS_DIRECTORY_format__ __RUNTIME_FUNCTION_format__ __StringFileInfo_format__ __StringTable_format__ __String_format__ __VS_FIXEDFILEINFO_format__ __VS_VERSIONINFO_format__ __Var_format__ __class__ __data__ __delattr__ __dict__ __dir__ __doc__ __enter__ __eq__ __exit__ __format__ __ge__ __getattribute__ __gt__ __hash__ __init__ __init_subclass__ __le__ __lt__ __module__ __ne__ __new__ __parse__ __reduce__ __reduce_ex__ __repr__ __setattr__ __sizeof__ __str__ __structures__ __subclasshook__ __unpack_data__ __weakref__ _get_section_by_rva_last_used adjust_FileAlignment adjust_SectionAlignment close dump_dict dump_info dword_align fileno full_load generate_checksum get_bytes_from_data get_data get_data_from_dword get_data_from_qword get_data_from_word get_dword_at_rva get_dword_from_data get_dword_from_offset get_imphash get_import_table get_memory_mapped_image get_offset_from_rva get_overlay get_overlay_data_start_offset get_physical_by_rva get_qword_at_rva get_qword_from_data get_qword_from_offset get_resources_strings get_rich_header_hash get_rva_from_offset get_section_by_offset get_section_by_rva get_string_at_rva get_string_from_data get_string_u_at_rva get_warnings get_word_at_rva get_word_from_data get_word_from_offset has_relocs header is_dll is_driver is_exe max_repeated_symbol max_symbol_exports merge_modified_section_data normalize_import_va parse_data_directories parse_debug_directory parse_delay_import_directory parse_directory_bound_imports parse_directory_load_config parse_directory_tls parse_exceptions_directory parse_export_directory parse_import_directory parse_imports parse_relocations parse_relocations_directory parse_resource_data_entry parse_resource_entry parse_resources_directory parse_rich_header parse_sections parse_version_information print_info relocate_image sections set_bytes_at_offset set_bytes_at_rva set_data_bytes set_dword_at_offset set_dword_at_rva set_qword_at_offset set_qword_at_rva set_word_at_offset set_word_at_rva show_warnings trim verify_checksum write ADVAPI32_dll COMCTL32_DLL GDI32_dll KERNEL32_dll ole32_dll SHELL32_DLL USER32_dll VERSION_dll',\n",
       "  'Class': 1}]"
      ]
     },
     "execution_count": 17,
     "metadata": {},
     "output_type": "execute_result"
    }
   ],
   "source": [
    "malicious_extraction[:1]"
   ]
  },
  {
   "cell_type": "code",
   "execution_count": 18,
   "id": "d8266a93-d584-4efa-8ea5-ff1468da329d",
   "metadata": {},
   "outputs": [
    {
     "data": {
      "text/html": [
       "<div>\n",
       "<style scoped>\n",
       "    .dataframe tbody tr th:only-of-type {\n",
       "        vertical-align: middle;\n",
       "    }\n",
       "\n",
       "    .dataframe tbody tr th {\n",
       "        vertical-align: top;\n",
       "    }\n",
       "\n",
       "    .dataframe thead th {\n",
       "        text-align: right;\n",
       "    }\n",
       "</style>\n",
       "<table border=\"1\" class=\"dataframe\">\n",
       "  <thead>\n",
       "    <tr style=\"text-align: right;\">\n",
       "      <th></th>\n",
       "      <th>File</th>\n",
       "      <th>PeStructure</th>\n",
       "      <th>Class</th>\n",
       "    </tr>\n",
       "  </thead>\n",
       "  <tbody>\n",
       "    <tr>\n",
       "      <th>0</th>\n",
       "      <td>00G8W57Cz6gRc0Xl41jSEMIFLR9iLDOx.exe</td>\n",
       "      <td>DIRECTORY_ENTRY_IMPORT DIRECTORY_ENTRY_RESOURC...</td>\n",
       "      <td>1</td>\n",
       "    </tr>\n",
       "    <tr>\n",
       "      <th>1</th>\n",
       "      <td>00gYviABxsPRDDr8JrYKT6LUuWqpzHe0.exe</td>\n",
       "      <td>DIRECTORY_ENTRY_BASERELOC DIRECTORY_ENTRY_IMPO...</td>\n",
       "      <td>1</td>\n",
       "    </tr>\n",
       "  </tbody>\n",
       "</table>\n",
       "</div>"
      ],
      "text/plain": [
       "                                   File  \\\n",
       "0  00G8W57Cz6gRc0Xl41jSEMIFLR9iLDOx.exe   \n",
       "1  00gYviABxsPRDDr8JrYKT6LUuWqpzHe0.exe   \n",
       "\n",
       "                                         PeStructure  Class  \n",
       "0  DIRECTORY_ENTRY_IMPORT DIRECTORY_ENTRY_RESOURC...      1  \n",
       "1  DIRECTORY_ENTRY_BASERELOC DIRECTORY_ENTRY_IMPO...      1  "
      ]
     },
     "execution_count": 18,
     "metadata": {},
     "output_type": "execute_result"
    }
   ],
   "source": [
    "malicious_df = pd.DataFrame(malicious_extraction)\n",
    "malicious_df[:2]"
   ]
  },
  {
   "cell_type": "markdown",
   "id": "0f012b88-e332-46df-8398-28e922226d7d",
   "metadata": {},
   "source": [
    "# Join datasets"
   ]
  },
  {
   "cell_type": "code",
   "execution_count": 19,
   "id": "f75f90fa-a5cb-4704-912f-b6ab16a761bb",
   "metadata": {},
   "outputs": [
    {
     "data": {
      "text/plain": [
       "1750"
      ]
     },
     "execution_count": 19,
     "metadata": {},
     "output_type": "execute_result"
    }
   ],
   "source": [
    "clean_and_malicious_df = pd.concat([clean_df, malicious_df])\n",
    "len(clean_and_malicious_df)"
   ]
  },
  {
   "cell_type": "markdown",
   "id": "2aa710ef-3a1b-463d-a578-08825b697660",
   "metadata": {},
   "source": [
    "# Save to Excel"
   ]
  },
  {
   "cell_type": "code",
   "execution_count": 20,
   "id": "3ea2b39b-2475-4b6c-a76b-53aee4ba13b5",
   "metadata": {},
   "outputs": [],
   "source": [
    "clean_and_malicious_df.to_excel('data.xlsx', index=False)"
   ]
  },
  {
   "cell_type": "code",
   "execution_count": null,
   "id": "1b326722-3dea-41a8-8e8b-bdc4eaea6888",
   "metadata": {},
   "outputs": [],
   "source": []
  }
 ],
 "metadata": {
  "kernelspec": {
   "display_name": "Python 3 (ipykernel)",
   "language": "python",
   "name": "python3"
  },
  "language_info": {
   "codemirror_mode": {
    "name": "ipython",
    "version": 3
   },
   "file_extension": ".py",
   "mimetype": "text/x-python",
   "name": "python",
   "nbconvert_exporter": "python",
   "pygments_lexer": "ipython3",
   "version": "3.10.5"
  }
 },
 "nbformat": 4,
 "nbformat_minor": 5
}
