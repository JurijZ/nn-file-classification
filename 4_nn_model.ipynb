{
 "cells": [
  {
   "cell_type": "code",
   "execution_count": 62,
   "metadata": {},
   "outputs": [],
   "source": [
    "#!pip install matplotlib\n",
    "#!pip install seaborn\n",
    "#!pip install sklearn\n",
    "#!pip install torch\n",
    "#!pip install imblearn"
   ]
  },
  {
   "cell_type": "code",
   "execution_count": 63,
   "metadata": {
    "colab": {
     "base_uri": "https://localhost:8080/",
     "height": 206
    },
    "id": "mNGmQSuAnC_3",
    "outputId": "e5f45f9a-27e9-4895-98a5-380f92347d54"
   },
   "outputs": [],
   "source": [
    "import glob\n",
    "import math\n",
    "import os\n",
    "import sys\n",
    "from datetime import datetime\n",
    "\n",
    "import matplotlib.pyplot as plt\n",
    "import scipy\n",
    "import numpy as np\n",
    "import numpy.ma as ma\n",
    "import pandas as pd\n",
    "import seaborn as sns\n",
    "from sklearn import metrics\n",
    "from sklearn.metrics import confusion_matrix\n",
    "from sklearn.metrics import classification_report\n",
    "from sklearn.model_selection import train_test_split\n",
    "from sklearn.feature_extraction.text import TfidfVectorizer\n",
    "from imblearn.over_sampling import RandomOverSampler"
   ]
  },
  {
   "cell_type": "code",
   "execution_count": 64,
   "metadata": {},
   "outputs": [],
   "source": [
    "import torch\n",
    "from torch import nn\n",
    "from torch import optim\n"
   ]
  },
  {
   "cell_type": "code",
   "execution_count": 65,
   "metadata": {},
   "outputs": [
    {
     "data": {
      "text/plain": [
       "'1.12.1+cpu'"
      ]
     },
     "execution_count": 65,
     "metadata": {},
     "output_type": "execute_result"
    }
   ],
   "source": [
    "torch.__version__"
   ]
  },
  {
   "cell_type": "markdown",
   "metadata": {
    "tags": [
     "test"
    ]
   },
   "source": [
    "## Load the dataset"
   ]
  },
  {
   "cell_type": "code",
   "execution_count": 66,
   "metadata": {},
   "outputs": [],
   "source": [
    "data = pd.read_excel('data.xlsx')"
   ]
  },
  {
   "cell_type": "code",
   "execution_count": 67,
   "metadata": {},
   "outputs": [
    {
     "name": "stdout",
     "output_type": "stream",
     "text": [
      "<class 'pandas.core.frame.DataFrame'>\n",
      "RangeIndex: 1750 entries, 0 to 1749\n",
      "Data columns (total 3 columns):\n",
      " #   Column       Non-Null Count  Dtype \n",
      "---  ------       --------------  ----- \n",
      " 0   File         1750 non-null   object\n",
      " 1   PeStructure  1750 non-null   object\n",
      " 2   Class        1750 non-null   int64 \n",
      "dtypes: int64(1), object(2)\n",
      "memory usage: 41.1+ KB\n",
      "None\n"
     ]
    }
   ],
   "source": [
    "print(data.info())"
   ]
  },
  {
   "cell_type": "code",
   "execution_count": 68,
   "metadata": {},
   "outputs": [],
   "source": [
    "data['PeStructure'] = data['PeStructure'].astype(\"string\")"
   ]
  },
  {
   "cell_type": "code",
   "execution_count": 69,
   "metadata": {},
   "outputs": [
    {
     "data": {
      "text/plain": [
       "array([0, 1], dtype=int64)"
      ]
     },
     "execution_count": 69,
     "metadata": {},
     "output_type": "execute_result"
    }
   ],
   "source": [
    "# in_progress status was removed\n",
    "data[\"Class\"].unique()"
   ]
  },
  {
   "cell_type": "code",
   "execution_count": 70,
   "metadata": {},
   "outputs": [
    {
     "data": {
      "text/plain": [
       "<AxesSubplot: xlabel='Class', ylabel='count'>"
      ]
     },
     "execution_count": 70,
     "metadata": {},
     "output_type": "execute_result"
    },
    {
     "data": {
      "image/png": "[encoded data removed]",
      "text/plain": [
       "<Figure size 432x288 with 1 Axes>"
      ]
     },
     "metadata": {
      "needs_background": "light"
     },
     "output_type": "display_data"
    }
   ],
   "source": [
    "# Check the balance\n",
    "sns.countplot(x = 'Class', data = data)"
   ]
  },
  {
   "cell_type": "code",
   "execution_count": 71,
   "metadata": {},
   "outputs": [],
   "source": [
    "# Upsample minority class\n",
    "data = pd.concat([data, data[data['Class'] == 0][:200]])"
   ]
  },
  {
   "cell_type": "code",
   "execution_count": 72,
   "metadata": {},
   "outputs": [
    {
     "data": {
      "text/plain": [
       "<AxesSubplot: xlabel='Class', ylabel='count'>"
      ]
     },
     "execution_count": 72,
     "metadata": {},
     "output_type": "execute_result"
    },
    {
     "data": {
      "image/png": "[encoded data removed]",
      "text/plain": [
       "<Figure size 432x288 with 1 Axes>"
      ]
     },
     "metadata": {
      "needs_background": "light"
     },
     "output_type": "display_data"
    }
   ],
   "source": [
    "# Check the balance\n",
    "sns.countplot(x = 'Class', data = data)"
   ]
  },
  {
   "cell_type": "code",
   "execution_count": 73,
   "metadata": {},
   "outputs": [
    {
     "data": {
      "text/plain": [
       "0    DIRECTORY_ENTRY_BASERELOC DIRECTORY_ENTRY_DEBU...\n",
       "1    DIRECTORY_ENTRY_BASERELOC DIRECTORY_ENTRY_DEBU...\n",
       "2    DIRECTORY_ENTRY_BASERELOC DIRECTORY_ENTRY_DEBU...\n",
       "3    DIRECTORY_ENTRY_BASERELOC DIRECTORY_ENTRY_DEBU...\n",
       "4    DIRECTORY_ENTRY_BASERELOC DIRECTORY_ENTRY_DEBU...\n",
       "Name: PeStructure, dtype: string"
      ]
     },
     "execution_count": 73,
     "metadata": {},
     "output_type": "execute_result"
    }
   ],
   "source": [
    "data[\"PeStructure\"][:5]"
   ]
  },
  {
   "cell_type": "code",
   "execution_count": 74,
   "metadata": {},
   "outputs": [
    {
     "data": {
      "text/html": [
       "<div>\n",
       "<style scoped>\n",
       "    .dataframe tbody tr th:only-of-type {\n",
       "        vertical-align: middle;\n",
       "    }\n",
       "\n",
       "    .dataframe tbody tr th {\n",
       "        vertical-align: top;\n",
       "    }\n",
       "\n",
       "    .dataframe thead th {\n",
       "        text-align: right;\n",
       "    }\n",
       "</style>\n",
       "<table border=\"1\" class=\"dataframe\">\n",
       "  <thead>\n",
       "    <tr style=\"text-align: right;\">\n",
       "      <th></th>\n",
       "      <th>File</th>\n",
       "      <th>PeStructure</th>\n",
       "      <th>Class</th>\n",
       "    </tr>\n",
       "  </thead>\n",
       "  <tbody>\n",
       "  </tbody>\n",
       "</table>\n",
       "</div>"
      ],
      "text/plain": [
       "Empty DataFrame\n",
       "Columns: [File, PeStructure, Class]\n",
       "Index: []"
      ]
     },
     "execution_count": 74,
     "metadata": {},
     "output_type": "execute_result"
    }
   ],
   "source": [
    "# Show any missing text\n",
    "data[pd.isnull(data['PeStructure'])]"
   ]
  },
  {
   "cell_type": "code",
   "execution_count": 75,
   "metadata": {},
   "outputs": [
    {
     "data": {
      "text/plain": [
       "1    980\n",
       "0    970\n",
       "Name: Class, dtype: int64"
      ]
     },
     "execution_count": 75,
     "metadata": {},
     "output_type": "execute_result"
    }
   ],
   "source": [
    "# Check if dataset is balanced\n",
    "counts = data[\"Class\"].value_counts()\n",
    "counts"
   ]
  },
  {
   "cell_type": "code",
   "execution_count": 76,
   "metadata": {},
   "outputs": [],
   "source": [
    "# Shuffle rows in the dataframe\n",
    "data = data.sample(frac=1)"
   ]
  },
  {
   "cell_type": "markdown",
   "metadata": {},
   "source": [
    "# Train test split"
   ]
  },
  {
   "cell_type": "code",
   "execution_count": 77,
   "metadata": {},
   "outputs": [
    {
     "name": "stdout",
     "output_type": "stream",
     "text": [
      "(1560,) (390,) (1560,) (390,)\n"
     ]
    }
   ],
   "source": [
    "x_train, x_test, y_train, y_test = train_test_split(data[\"PeStructure\"], data[\"Class\"], test_size=.2, random_state=7)\n",
    "\n",
    "print(x_train.shape, x_test.shape, y_train.shape, y_test.shape)"
   ]
  },
  {
   "cell_type": "markdown",
   "metadata": {},
   "source": [
    "# Prepare the tokenizer"
   ]
  },
  {
   "cell_type": "code",
   "execution_count": 78,
   "metadata": {},
   "outputs": [],
   "source": [
    "vectorizer = TfidfVectorizer()"
   ]
  },
  {
   "cell_type": "code",
   "execution_count": 79,
   "metadata": {},
   "outputs": [],
   "source": [
    "# Learn vocabulary from the training data and vectorize in one go.\n",
    "x_train = vectorizer.fit_transform(x_train)\n",
    "\n",
    "# Vectorize the test data.\n",
    "x_test = vectorizer.transform(x_test)"
   ]
  },
  {
   "cell_type": "code",
   "execution_count": 80,
   "metadata": {},
   "outputs": [
    {
     "data": {
      "text/plain": [
       "array(['0_dll', '10_dll', '18', '19', '1_0', '1_1_dll', '1_dll', '20_dll',\n",
       "       '2_0', '2_0_dll', '2_dll', '30_dll', '3_dll', '4_dll', '5_dll',\n",
       "       '6_dll', '7_dll', '8_dll', '9_dll', '__class__', '__data__',\n",
       "       '__delattr__', '__dict__', '__dir__', '__doc__', '__enter__',\n",
       "       '__eq__', '__exit__', '__format__', '__ge__', '__getattribute__',\n",
       "       '__gt__', '__hash__', '__image_base_relocation_entry_format__',\n",
       "       '__image_base_relocation_format__',\n",
       "       '__image_bound_forwarder_ref_format__',\n",
       "       '__image_bound_import_descriptor_format__',\n",
       "       '__image_data_directory_format__',\n",
       "       '__image_debug_directory_format__',\n",
       "       '__image_delay_import_descriptor_format__',\n",
       "       '__image_dos_header_format__', '__image_export_directory_format__',\n",
       "       '__image_file_header_format__',\n",
       "       '__image_import_descriptor_format__',\n",
       "       '__image_load_config_directory64_format__',\n",
       "       '__image_load_config_directory_format__',\n",
       "       '__image_nt_headers_format__',\n",
       "       '__image_optional_header64_format__',\n",
       "       '__image_optional_header_format__',\n",
       "       '__image_resource_data_entry_format__',\n",
       "       '__image_resource_directory_entry_format__',\n",
       "       '__image_resource_directory_format__',\n",
       "       '__image_section_header_format__', '__image_thunk_data64_format__',\n",
       "       '__image_thunk_data_format__', '__image_tls_directory64_format__',\n",
       "       '__image_tls_directory_format__', '__init__', '__init_subclass__',\n",
       "       '__le__', '__lt__', '__module__', '__ne__', '__new__', '__parse__',\n",
       "       '__reduce__', '__reduce_ex__', '__repr__',\n",
       "       '__runtime_function_format__', '__setattr__', '__sizeof__',\n",
       "       '__str__', '__string_format__', '__stringfileinfo_format__',\n",
       "       '__stringtable_format__', '__structures__', '__subclasshook__',\n",
       "       '__unpack_data__', '__var_format__', '__vs_fixedfileinfo_format__',\n",
       "       '__vs_versioninfo_format__', '__weakref__',\n",
       "       '_get_section_by_rva_last_used', '_pe__from_file',\n",
       "       '_pe__resource_size_limit_reached',\n",
       "       '_pe__resource_size_limit_upperbounds',\n",
       "       '_pe__total_import_symbols', '_pe__total_resource_bytes',\n",
       "       '_pe__total_resource_entries_count', '_pe__warnings', 'accesshlpr',\n",
       "       'aclui_dll', 'active_desktop_render_dll', 'activeds_dll',\n",
       "       'adjust_filealignment', 'adjust_sectionalignment', 'advapi32',\n",
       "       'advapi32_dll', 'aimp_runtime_dll', 'aimp_shared_dll', 'amrwb',\n",
       "       'ansi', 'antivirudll_dll', 'api', 'apiquery', 'appcompat',\n",
       "       'appcontainer', 'apphelp_dll', 'appmodel', 'appvmanifest_dll',\n",
       "       'appvpolicy_dll', 'appxalluserstore_dll', 'apr', 'aprutil',\n",
       "       'assuan', 'atl_dll', 'atoms', 'audioses_dll', 'avicap32_dll',\n",
       "       'avifil32_dll', 'avrt_dll', 'avutil_dll', 'awt_dll', 'base',\n",
       "       'basegfx_dll', 'bcd_dll', 'bcp47langs_dll', 'bcrypt_dll',\n",
       "       'bdehdcfglib_dll', 'bdeui_dll', 'bicltapi', 'bluetoothapis_dll',\n",
       "       'branding', 'brokerlib_dll', 'cabinet_dll', 'capability',\n",
       "       'cemapi_dll', 'cfgmgr32_dll', 'cgraph_dll', 'chakra_dll',\n",
       "       'chrome_elf_dll', 'classicprovider', 'clipboard', 'close',\n",
       "       'clusapi_dll', 'cmmlib_dll', 'cmpbk32_dll', 'cmutil_dll', 'com',\n",
       "       'combase_dll', 'comctl32_dll', 'comdlg32_dll', 'comhelpers',\n",
       "       'comm', 'commonengine_dll', 'communicate_dll', 'comphelpmsc_dll',\n",
       "       'concrt140d_dll', 'config', 'config7_dll', 'conio', 'console',\n",
       "       'consumer', 'controller', 'convert', 'core', 'core_dll',\n",
       "       'coremessaging_dll', 'coreuicomponents_dll', 'cppu3_dll',\n",
       "       'cppuhelper3msc_dll', 'credentials', 'credui_dll', 'crt',\n",
       "       'crtdll_dll', 'crypt32_dll', 'cryptngc_dll', 'crypto', 'cryptoapi',\n",
       "       'cryptsp_dll', 'cryptui_dll', 'cygcrypto', 'cygfdisk', 'cyggcc_s',\n",
       "       'cygintl', 'cyglber', 'cygncursesw', 'cygpopt', 'cygsasl2',\n",
       "       'cygsmartcols', 'cygssl', 'cygstdc', 'cygwin1_dll', 'cygz_dll',\n",
       "       'd2d1_dll', 'd3d11_dll', 'd3d12_dll', 'd3d9_dll',\n",
       "       'd3dcompiler_47_dll', 'd3dkmt', 'datetime', 'dbgeng_dll',\n",
       "       'dbghelp_dll', 'dbtools_dll', 'dcomp_dll', 'ddptrace_dll',\n",
       "       'ddraw_dll', 'debug', 'delayload', 'deviceassociation_dll',\n",
       "       'devices', 'devil_dll', 'devobj_dll', 'dfscli_dll', 'dhcpcsvc_dll',\n",
       "       'directory_entry_basereloc', 'directory_entry_bound_import',\n",
       "       'directory_entry_debug', 'directory_entry_delay_import',\n",
       "       'directory_entry_exception', 'directory_entry_export',\n",
       "       'directory_entry_import', 'directory_entry_load_config',\n",
       "       'directory_entry_resource', 'directory_entry_tls', 'dll_dll',\n",
       "       'dllsafecheck_dll', 'dmcmnutils_dll', 'dmenrollengine_dll',\n",
       "       'dnsapi_dll', 'dos_header', 'dot3msm_dll', 'downlevel',\n",
       "       'dpapi_dll', 'dsound_dll', 'dsrole_dll', 'dsuiext_dll',\n",
       "       'dui70_dll', 'duilib_dll', 'dump_dict', 'dump_info', 'duser_dll',\n",
       "       'dwbase_dll', 'dwmapi_dll', 'dwmcore_dll', 'dwmredir_dll',\n",
       "       'dword_align', 'dwrite_dll', 'dwutility_dll', 'dx', 'dxgi_dll',\n",
       "       'eappcfg_dll', 'eapputil_dll', 'elscore_dll', 'environment',\n",
       "       'error', 'errorhandling', 'esent_dll', 'eventing', 'eventlog',\n",
       "       'expat', 'ext', 'fastprox_dll', 'featurestaging', 'fhsvcctl_dll',\n",
       "       'fibers', 'file', 'file_dll', 'file_header',\n",
       "       'filealignment_warning', 'fileinfo', 'fileno', 'filesystem',\n",
       "       'firewallapi_dll', 'fltlib_dll', 'folder', 'fontconfig',\n",
       "       'framedynos_dll', 'full_load', 'fveapi_dll', 'fwe_dll', 'fwi_dll',\n",
       "       'fxsapi_dll', 'gcc_s', 'gcmt', 'gcrypt', 'gdi32_dll',\n",
       "       'gdiplus_dll', 'generate_checksum', 'get_bytes_from_data',\n",
       "       'get_data', 'get_data_from_dword', 'get_data_from_qword',\n",
       "       'get_data_from_word', 'get_dword_at_rva', 'get_dword_from_data',\n",
       "       'get_dword_from_offset', 'get_imphash', 'get_import_table',\n",
       "       'get_memory_mapped_image', 'get_offset_from_rva', 'get_overlay',\n",
       "       'get_overlay_data_start_offset', 'get_physical_by_rva',\n",
       "       'get_qword_at_rva', 'get_qword_from_data', 'get_qword_from_offset',\n",
       "       'get_resources_strings', 'get_rich_header_hash',\n",
       "       'get_rva_from_offset', 'get_section_by_offset',\n",
       "       'get_section_by_rva', 'get_string_at_rva', 'get_string_from_data',\n",
       "       'get_string_u_at_rva', 'get_warnings', 'get_word_at_rva',\n",
       "       'get_word_from_data', 'get_word_from_offset', 'gettextlib',\n",
       "       'gettextsrc', 'glib', 'glu32_dll', 'gnutls', 'gpg', 'grouppolicy',\n",
       "       'gsdll32_dll', 'gsdmain_dll', 'gssapi', 'gvc_dll', 'hal_dll',\n",
       "       'handle', 'has_relocs', 'header', 'heap', 'helpers',\n",
       "       'i18nisolang1msc_dll', 'icmp_dll', 'iconv', 'icuuc57_dll',\n",
       "       'identity', 'idn2', 'ie', 'iertutil_dll', 'ifsutil_dll',\n",
       "       'iimportlib_dll', 'imagehlp_dll', 'imm32_dll', 'interlocked',\n",
       "       'intl', 'intl_dll', 'io', 'iphlpapi_dll', 'is_dll', 'is_driver',\n",
       "       'is_exe', 'isafepxy_dll', 'iscsiexe_dll', 'iscsium_dll',\n",
       "       'java_dll', 'jawt_dll', 'jli_dll', 'job', 'jvm_dll', 'kernel32',\n",
       "       'kernel32_dll', 'kernelbase_dll', 'key', 'keyboard', 'ksba',\n",
       "       'ktmw32_dll', 'l1', 'l2', 'l3', 'largeinteger', 'legacy', 'libapr',\n",
       "       'libbz2_dll', 'libcares', 'libfreetype', 'libgcc_s_dw2',\n",
       "       'libgcc_s_sjlj', 'libgdk', 'libgdk_pixbuf', 'libgettextlib',\n",
       "       'libgettextsrc', 'libglib', 'libgnutls', 'libgobject',\n",
       "       'libgstaudio', 'libgstbase', 'libgstpbutils', 'libgstreamer',\n",
       "       'libgstriff', 'libgsttag', 'libgsturidownloader', 'libgstvideo',\n",
       "       'libgtk', 'libintl', 'libmp3lame', 'libogg', 'libopencore',\n",
       "       'libopus', 'libraryloader', 'librsvg', 'libsbc', 'libstdc',\n",
       "       'libsystre', 'libwireshark_dll', 'libwsutil_dll', 'libxml2_dll',\n",
       "       'libz_dll', 'loadperf_dll', 'locale', 'localization',\n",
       "       'localregistry', 'log4cplusu_dll', 'log7_dll', 'logoncli_dll',\n",
       "       'lsalookup', 'lsapolicy', 'lz32_dll', 'lz4', 'magic', 'management',\n",
       "       'mapconfiguration_dll', 'mapi32_dll', 'marshal', 'math',\n",
       "       'max_repeated_symbol', 'max_symbol_exports', 'mdmcommon_dll',\n",
       "       'memory', 'merge_modified_section_data', 'mf_dll', 'mfc100u_dll',\n",
       "       'mfc140_dll', 'mfc42_dll', 'mfc42u_dll', 'mfcore_dll',\n",
       "       'mfperfhelper_dll', 'mfplat_dll', 'mi_dll', 'midlproxystub',\n",
       "       'miktex209', 'misc', 'miutils_dll', 'mm', 'mmdevapi_dll',\n",
       "       'mobilenetworking_dll', 'mpclient_dll', 'mpr_dll', 'ms',\n",
       "       'msacm32_dll', 'msasn1_dll', 'mscoree_dll', 'msctf_dll',\n",
       "       'msctfmonitor_dll', 'msdart_dll', 'msdatl3_dll', 'msdmo_dll',\n",
       "       'msi_dll', 'msimg32_dll', 'mspatchc_dll', 'msvbvm50_dll',\n",
       "       'msvbvm60_dll', 'msvcirt_dll', 'msvcp100_dll', 'msvcp110_dll',\n",
       "       'msvcp110_win_dll', 'msvcp120_dll', 'msvcp140_clr0400_dll',\n",
       "       'msvcp140_dll', 'msvcp140d_dll', 'msvcp60_dll', 'msvcp71_dll',\n",
       "       'msvcp90_dll', 'msvcp_win_dll', 'msvcr100_dll', 'msvcr110_dll',\n",
       "       'msvcr120_dll', 'msvcr71_dll', 'msvcr80_dll', 'msvcr90_dll',\n",
       "       'msvcr90d_dll', 'msvcrt_dll', 'msvfw32_dll', 'mswsock_dll', 'msys',\n",
       "       'namedpipe', 'namespace', 'ncrypt_dll', 'ncsi_dll', 'netapi32_dll',\n",
       "       'netprovfw_dll', 'netsetupapi_dll', 'netsh_exe', 'netutils_dll',\n",
       "       'nlaapi_dll', 'normaliz_dll', 'normalization',\n",
       "       'normalize_import_va', 'npth', 'nsi_dll', 'nt_headers', 'ntdll',\n",
       "       'ntdll_dll', 'ntdsapi_dll', 'ntoskrnl_exe', 'ntuser', 'obsolete',\n",
       "       'odbc32_dll', 'ole32', 'ole32_dll', 'oleacc_dll', 'oleaut32_dll',\n",
       "       'oledlg_dll', 'olepro32_dll', 'ollydbg_exe', 'ootk_dll',\n",
       "       'opengl32_dll', 'optional_header', 'packagemanager_dll',\n",
       "       'parse_data_directories', 'parse_debug_directory',\n",
       "       'parse_delay_import_directory', 'parse_directory_bound_imports',\n",
       "       'parse_directory_load_config', 'parse_directory_tls',\n",
       "       'parse_exceptions_directory', 'parse_export_directory',\n",
       "       'parse_import_directory', 'parse_imports', 'parse_relocations',\n",
       "       'parse_relocations_directory', 'parse_resource_data_entry',\n",
       "       'parse_resource_entry', 'parse_resources_directory',\n",
       "       'parse_rich_header', 'parse_sections', 'parse_version_information',\n",
       "       'path', 'pdh_dll', 'pdhui_dll', 'pe_type', 'perfcounters',\n",
       "       'perfctrl_dll', 'perl5_32_dll', 'phoneutil_dll', 'pimstore_dll',\n",
       "       'pkeyhelper_dll', 'pla_dll', 'policymanager_dll', 'polstore_dll',\n",
       "       'popt_dll', 'power', 'powermanagement', 'powrprof_dll',\n",
       "       'print_info', 'private', 'privateprofile', 'processenvironment',\n",
       "       'processthreads', 'processtopology', 'profapi_dll', 'profile',\n",
       "       'propertysetprivate', 'propsys_dll', 'protobuf_dll',\n",
       "       'protocomm_dll', 'provider', 'provthrd_dll', 'psapi', 'psapi_dll',\n",
       "       'psm', 'pstorec_dll', 'psxlib_dll', 'python27_dll',\n",
       "       'pywintypes27_dll', 'qt5core_dll', 'qt5gui_dll',\n",
       "       'qt5multimedia_dll', 'qt5network_dll', 'qt5printsupport_dll',\n",
       "       'qt5qml_dll', 'qt5qmlmodels_dll', 'qt5quick_dll',\n",
       "       'qt5quicktemplates2_dll', 'qt5script_dll', 'qt5widgets_dll',\n",
       "       'qt5xml_dll', 'qt_dll', 'query', 'quirks', 'r_anal_dll',\n",
       "       'r_asm_dll', 'r_bin_dll', 'r_bp_dll', 'r_config_dll', 'r_cons_dll',\n",
       "       'r_crypto_dll', 'r_debug_dll', 'r_egg_dll', 'r_flag_dll',\n",
       "       'r_fs_dll', 'r_hash_dll', 'r_io_dll', 'r_lang_dll', 'r_magic_dll',\n",
       "       'r_parse_dll', 'r_reg_dll', 'r_search_dll', 'r_socket_dll',\n",
       "       'r_syscall_dll', 'r_util_dll', 'rasapi32_dll', 'realtime',\n",
       "       'rectangle', 'regapi_dll', 'regex2_dll', 'registration',\n",
       "       'registry', 'relocate_image', 'reslib_dll', 'resutils_dll',\n",
       "       'rfxvmt_dll', 'rich_header', 'rmclient_dll', 'rpcrt4_dll',\n",
       "       'rtcore', 'rtlsupport', 'rtm_dll', 'rtutils_dll', 'runtime',\n",
       "       'safedogfilemon_dll', 'safedogserverdll_dll', 'sal3_dll',\n",
       "       'samcli_dll', 'samlib_dll', 'sax_dll', 'scaling', 'scecli_dll',\n",
       "       'sddl', 'search', 'sectionalignment_warning', 'sections',\n",
       "       'secur32_dll', 'securekernel_exe', 'security', 'seh',\n",
       "       'sensapi_dll', 'sensorsnativeapi_v2_dll', 'sensorsutilsv2_dll',\n",
       "       'service', 'set_bytes_at_offset', 'set_bytes_at_rva',\n",
       "       'set_data_bytes', 'set_dword_at_offset', 'set_dword_at_rva',\n",
       "       'set_qword_at_offset', 'set_qword_at_rva', 'set_word_at_offset',\n",
       "       'set_word_at_rva', 'setting', 'setupapi_dll', 'setupcl_dll',\n",
       "       'sfc_dll', 'shcore', 'shcore_dll', 'shdirectory', 'shdocvw_dll',\n",
       "       'shell', 'shell32', 'shell32_dll', 'shellfolders', 'shfolder_dll',\n",
       "       'shlwapi', 'shlwapi_dll', 'show_warnings', 'shutdown',\n",
       "       'sidebyside', 'slc_dll', 'sot_dll', 'sqlite3', 'srmtrace_dll',\n",
       "       'srvcli_dll', 'sspicli_dll', 'state', 'stateseparation', 'stdio',\n",
       "       'storage', 'store3_dll', 'stream', 'string', 'stringansi',\n",
       "       'svl_dll', 'svn_client', 'svn_ra', 'svn_subr', 'svn_swig_perl',\n",
       "       'svt_dll', 'swdevice', 'synch', 'sysinfo', 'sysparams',\n",
       "       'syssetup_dll', 'systemeventsbrokerclient_dll', 'tapi32_dll',\n",
       "       'taskpool', 'tbs_dll', 'tc', 'tdh', 'tedutil_dll', 'thread',\n",
       "       'threadpool', 'time', 'timezone', 'tl_dll', 'toolhelp',\n",
       "       'tpmcoreprovisioning_dll', 'trim', 'trustee',\n",
       "       'twinapi_appcore_dll', 'ucbhelper4msc_dll', 'ucrtbase_clr0400_dll',\n",
       "       'ucrtbased_dll', 'ui', 'uibase_dll', 'ulib_dll', 'umpdc_dll',\n",
       "       'unicodeansi', 'uniplat_dll', 'unistring', 'unlock', 'url',\n",
       "       'url_dll', 'urlmon_dll', 'user32_dll',\n",
       "       'userdataplatformhelperutil_dll', 'userdatatypehelperutil_dll',\n",
       "       'userenv_dll', 'usp10_dll', 'util', 'utildll_dll', 'utility',\n",
       "       'utl_dll', 'uwfcfgmgmt_dll', 'uwinapi_dll', 'uxtheme_dll',\n",
       "       'vcl50_bpl', 'vcl_dll', 'vcruntime140_1_dll',\n",
       "       'vcruntime140_app_dll', 'vcruntime140_clr0400_dll',\n",
       "       'vcruntime140_dll', 'vcruntime140d_dll', 'verify_checksum',\n",
       "       'version', 'version_dll', 'virtdisk_dll', 'vos3msc_dll',\n",
       "       'vrfcore_dll', 'vs_fixedfileinfo', 'vs_versioninfo', 'vssapi_dll',\n",
       "       'wbemcomn_dll', 'wcp_dll', 'wdi_dll', 'wdscore_dll', 'wdsutil_dll',\n",
       "       'webservices_dll', 'wer_dll', 'wevtapi_dll', 'wex_common_dll',\n",
       "       'wex_logger_dll', 'wifidisplay_dll', 'win', 'win32', 'win32u_dll',\n",
       "       'winbrand', 'winbrand_dll', 'wincorlib_dll', 'window',\n",
       "       'windows_storage_dll', 'windows_ui_immersive_dll', 'windowstation',\n",
       "       'winhttp_dll', 'wininet_dll', 'winipsec_dll', 'winload_sys',\n",
       "       'winmm_dll', 'winnsi_dll', 'winrt', 'winscard_dll', 'winspool_drv',\n",
       "       'winsta_dll', 'winsvc', 'winsync_dll', 'winsyncmetastore_dll',\n",
       "       'winsyncproviders_dll', 'wintrust_dll', 'wkscli_dll',\n",
       "       'wlanapi_dll', 'wldap32_dll', 'wmiclnt_dll', 'wmpointer',\n",
       "       'wmvcore_dll', 'wofutil_dll', 'wow64', 'write', 'ws2_32_dll',\n",
       "       'wsdapi_dll', 'wsmsvc_dll', 'wsnmp32_dll', 'wsock32_dll',\n",
       "       'wtsapi32_dll', 'wwapi_dll', 'x64bridge_dll', 'xmllite_dll',\n",
       "       'z_dll', 'zcrashreport_dll', 'zlib1_dll', 'ztrace_maps_dll'],\n",
       "      dtype=object)"
      ]
     },
     "execution_count": 80,
     "metadata": {},
     "output_type": "execute_result"
    }
   ],
   "source": [
    "# Lets look at the vocabulary\n",
    "vectorizer.get_feature_names_out()"
   ]
  },
  {
   "cell_type": "code",
   "execution_count": 81,
   "metadata": {},
   "outputs": [],
   "source": [
    "x_train = torch.tensor(scipy.sparse.csr_matrix.todense(x_train)).float()\n",
    "x_test = torch.tensor(scipy.sparse.csr_matrix.todense(x_test)).float()"
   ]
  },
  {
   "cell_type": "code",
   "execution_count": 82,
   "metadata": {},
   "outputs": [
    {
     "data": {
      "text/plain": [
       "823"
      ]
     },
     "execution_count": 82,
     "metadata": {},
     "output_type": "execute_result"
    }
   ],
   "source": [
    "x_train.shape[1]"
   ]
  },
  {
   "cell_type": "code",
   "execution_count": 83,
   "metadata": {},
   "outputs": [
    {
     "data": {
      "text/plain": [
       "823"
      ]
     },
     "execution_count": 83,
     "metadata": {},
     "output_type": "execute_result"
    }
   ],
   "source": [
    "x_test.shape[1]"
   ]
  },
  {
   "cell_type": "code",
   "execution_count": 84,
   "metadata": {},
   "outputs": [],
   "source": [
    "y_train = torch.tensor(y_train.values)\n",
    "y_test = torch.tensor(y_test.values)"
   ]
  },
  {
   "cell_type": "markdown",
   "metadata": {},
   "source": [
    "# Define NN architecture\n",
    "  \n",
    "Inspired by: https://medium.com/swlh/text-classification-using-scikit-learn-pytorch-and-tensorflow-a3350808f9f7"
   ]
  },
  {
   "cell_type": "code",
   "execution_count": 85,
   "metadata": {},
   "outputs": [],
   "source": [
    "model = nn.Sequential(nn.Linear(x_train.shape[1], 64),\n",
    "                      nn.ReLU(),\n",
    "                      nn.Dropout(0.1),\n",
    "                      nn.Linear(64, data['Class'].nunique()),\n",
    "                      nn.LogSoftmax(dim=1))\n",
    "\n",
    "# Define the loss\n",
    "criterion = nn.NLLLoss()\n",
    "\n",
    "# Forward pass, get our logits\n",
    "logps = model(x_train)\n",
    "\n",
    "# Calculate the loss with the logits and the labels\n",
    "loss = criterion(logps, y_train)\n",
    "\n",
    "loss.backward()\n",
    "\n",
    "# Optimizers require the parameters to optimize and a learning rate\n",
    "optimizer = optim.Adam(model.parameters(), lr=0.002)"
   ]
  },
  {
   "cell_type": "code",
   "execution_count": 86,
   "metadata": {},
   "outputs": [
    {
     "name": "stdout",
     "output_type": "stream",
     "text": [
      "Sequential(\n",
      "  (0): Linear(in_features=823, out_features=64, bias=True)\n",
      "  (1): ReLU()\n",
      "  (2): Dropout(p=0.1, inplace=False)\n",
      "  (3): Linear(in_features=64, out_features=2, bias=True)\n",
      "  (4): LogSoftmax(dim=1)\n",
      ")\n"
     ]
    }
   ],
   "source": [
    "print(model)"
   ]
  },
  {
   "cell_type": "markdown",
   "metadata": {},
   "source": [
    "# Model training"
   ]
  },
  {
   "cell_type": "code",
   "execution_count": 87,
   "metadata": {},
   "outputs": [
    {
     "name": "stdout",
     "output_type": "stream",
     "text": [
      "Epoch: 1/100..  Training Loss: 0.697..  Test Loss: 0.689..  Test Accuracy: 0.490\n",
      "Epoch: 2/100..  Training Loss: 0.687..  Test Loss: 0.682..  Test Accuracy: 0.490\n",
      "Epoch: 3/100..  Training Loss: 0.679..  Test Loss: 0.675..  Test Accuracy: 0.733\n",
      "Epoch: 4/100..  Training Loss: 0.671..  Test Loss: 0.668..  Test Accuracy: 0.703\n",
      "Epoch: 5/100..  Training Loss: 0.663..  Test Loss: 0.661..  Test Accuracy: 0.682\n",
      "Epoch: 6/100..  Training Loss: 0.655..  Test Loss: 0.655..  Test Accuracy: 0.679\n",
      "Epoch: 7/100..  Training Loss: 0.648..  Test Loss: 0.649..  Test Accuracy: 0.674\n",
      "Epoch: 8/100..  Training Loss: 0.640..  Test Loss: 0.643..  Test Accuracy: 0.672\n",
      "Epoch: 9/100..  Training Loss: 0.634..  Test Loss: 0.638..  Test Accuracy: 0.672\n",
      "Epoch: 10/100..  Training Loss: 0.628..  Test Loss: 0.633..  Test Accuracy: 0.674\n",
      "Epoch: 11/100..  Training Loss: 0.621..  Test Loss: 0.628..  Test Accuracy: 0.674\n",
      "Epoch: 12/100..  Training Loss: 0.616..  Test Loss: 0.624..  Test Accuracy: 0.677\n",
      "Epoch: 13/100..  Training Loss: 0.611..  Test Loss: 0.620..  Test Accuracy: 0.679\n",
      "Epoch: 14/100..  Training Loss: 0.605..  Test Loss: 0.615..  Test Accuracy: 0.682\n",
      "Epoch: 15/100..  Training Loss: 0.600..  Test Loss: 0.609..  Test Accuracy: 0.682\n",
      "Epoch: 16/100..  Training Loss: 0.593..  Test Loss: 0.603..  Test Accuracy: 0.690\n",
      "Epoch: 17/100..  Training Loss: 0.586..  Test Loss: 0.597..  Test Accuracy: 0.695\n",
      "Epoch: 18/100..  Training Loss: 0.579..  Test Loss: 0.590..  Test Accuracy: 0.710\n",
      "Epoch: 19/100..  Training Loss: 0.572..  Test Loss: 0.584..  Test Accuracy: 0.713\n",
      "Epoch: 20/100..  Training Loss: 0.564..  Test Loss: 0.577..  Test Accuracy: 0.721\n",
      "Epoch: 21/100..  Training Loss: 0.558..  Test Loss: 0.571..  Test Accuracy: 0.726\n",
      "Epoch: 22/100..  Training Loss: 0.556..  Test Loss: 0.565..  Test Accuracy: 0.733\n",
      "Epoch: 23/100..  Training Loss: 0.543..  Test Loss: 0.558..  Test Accuracy: 0.736\n",
      "Epoch: 24/100..  Training Loss: 0.537..  Test Loss: 0.551..  Test Accuracy: 0.738\n",
      "Epoch: 25/100..  Training Loss: 0.529..  Test Loss: 0.545..  Test Accuracy: 0.738\n",
      "Epoch: 26/100..  Training Loss: 0.523..  Test Loss: 0.538..  Test Accuracy: 0.738\n",
      "Epoch: 27/100..  Training Loss: 0.513..  Test Loss: 0.532..  Test Accuracy: 0.744\n",
      "Epoch: 28/100..  Training Loss: 0.507..  Test Loss: 0.526..  Test Accuracy: 0.746\n",
      "Epoch: 29/100..  Training Loss: 0.499..  Test Loss: 0.520..  Test Accuracy: 0.746\n",
      "Epoch: 30/100..  Training Loss: 0.492..  Test Loss: 0.513..  Test Accuracy: 0.749\n",
      "Epoch: 31/100..  Training Loss: 0.483..  Test Loss: 0.506..  Test Accuracy: 0.759\n",
      "Epoch: 32/100..  Training Loss: 0.476..  Test Loss: 0.499..  Test Accuracy: 0.764\n",
      "Epoch: 33/100..  Training Loss: 0.470..  Test Loss: 0.493..  Test Accuracy: 0.774\n",
      "Epoch: 34/100..  Training Loss: 0.461..  Test Loss: 0.486..  Test Accuracy: 0.782\n",
      "Epoch: 35/100..  Training Loss: 0.454..  Test Loss: 0.480..  Test Accuracy: 0.792\n",
      "Epoch: 36/100..  Training Loss: 0.449..  Test Loss: 0.474..  Test Accuracy: 0.795\n",
      "Epoch: 37/100..  Training Loss: 0.441..  Test Loss: 0.469..  Test Accuracy: 0.795\n",
      "Epoch: 38/100..  Training Loss: 0.433..  Test Loss: 0.464..  Test Accuracy: 0.795\n",
      "Epoch: 39/100..  Training Loss: 0.426..  Test Loss: 0.459..  Test Accuracy: 0.795\n",
      "Epoch: 40/100..  Training Loss: 0.420..  Test Loss: 0.454..  Test Accuracy: 0.792\n",
      "Epoch: 41/100..  Training Loss: 0.414..  Test Loss: 0.449..  Test Accuracy: 0.792\n",
      "Epoch: 42/100..  Training Loss: 0.408..  Test Loss: 0.444..  Test Accuracy: 0.797\n",
      "Epoch: 43/100..  Training Loss: 0.399..  Test Loss: 0.439..  Test Accuracy: 0.808\n",
      "Epoch: 44/100..  Training Loss: 0.394..  Test Loss: 0.434..  Test Accuracy: 0.815\n",
      "Epoch: 45/100..  Training Loss: 0.390..  Test Loss: 0.430..  Test Accuracy: 0.818\n",
      "Epoch: 46/100..  Training Loss: 0.382..  Test Loss: 0.426..  Test Accuracy: 0.823\n",
      "Epoch: 47/100..  Training Loss: 0.378..  Test Loss: 0.422..  Test Accuracy: 0.826\n",
      "Epoch: 48/100..  Training Loss: 0.376..  Test Loss: 0.419..  Test Accuracy: 0.823\n",
      "Epoch: 49/100..  Training Loss: 0.370..  Test Loss: 0.415..  Test Accuracy: 0.828\n",
      "Epoch: 50/100..  Training Loss: 0.361..  Test Loss: 0.412..  Test Accuracy: 0.823\n",
      "Epoch: 51/100..  Training Loss: 0.362..  Test Loss: 0.409..  Test Accuracy: 0.826\n",
      "Epoch: 52/100..  Training Loss: 0.359..  Test Loss: 0.406..  Test Accuracy: 0.828\n",
      "Epoch: 53/100..  Training Loss: 0.354..  Test Loss: 0.403..  Test Accuracy: 0.828\n",
      "Epoch: 54/100..  Training Loss: 0.349..  Test Loss: 0.400..  Test Accuracy: 0.828\n",
      "Epoch: 55/100..  Training Loss: 0.346..  Test Loss: 0.397..  Test Accuracy: 0.828\n",
      "Epoch: 56/100..  Training Loss: 0.339..  Test Loss: 0.395..  Test Accuracy: 0.831\n",
      "Epoch: 57/100..  Training Loss: 0.339..  Test Loss: 0.392..  Test Accuracy: 0.831\n",
      "Epoch: 58/100..  Training Loss: 0.335..  Test Loss: 0.390..  Test Accuracy: 0.836\n",
      "Epoch: 59/100..  Training Loss: 0.331..  Test Loss: 0.388..  Test Accuracy: 0.836\n",
      "Epoch: 60/100..  Training Loss: 0.328..  Test Loss: 0.386..  Test Accuracy: 0.836\n",
      "Epoch: 61/100..  Training Loss: 0.322..  Test Loss: 0.384..  Test Accuracy: 0.838\n",
      "Epoch: 62/100..  Training Loss: 0.323..  Test Loss: 0.382..  Test Accuracy: 0.841\n",
      "Epoch: 63/100..  Training Loss: 0.317..  Test Loss: 0.380..  Test Accuracy: 0.844\n",
      "Epoch: 64/100..  Training Loss: 0.313..  Test Loss: 0.378..  Test Accuracy: 0.844\n",
      "Epoch: 65/100..  Training Loss: 0.312..  Test Loss: 0.376..  Test Accuracy: 0.846\n",
      "Epoch: 66/100..  Training Loss: 0.311..  Test Loss: 0.375..  Test Accuracy: 0.846\n",
      "Epoch: 67/100..  Training Loss: 0.308..  Test Loss: 0.374..  Test Accuracy: 0.846\n",
      "Epoch: 68/100..  Training Loss: 0.304..  Test Loss: 0.372..  Test Accuracy: 0.846\n",
      "Epoch: 69/100..  Training Loss: 0.304..  Test Loss: 0.370..  Test Accuracy: 0.846\n",
      "Epoch: 70/100..  Training Loss: 0.304..  Test Loss: 0.368..  Test Accuracy: 0.844\n",
      "Epoch: 71/100..  Training Loss: 0.299..  Test Loss: 0.367..  Test Accuracy: 0.844\n",
      "Epoch: 72/100..  Training Loss: 0.297..  Test Loss: 0.366..  Test Accuracy: 0.846\n",
      "Epoch: 73/100..  Training Loss: 0.296..  Test Loss: 0.364..  Test Accuracy: 0.846\n",
      "Epoch: 74/100..  Training Loss: 0.297..  Test Loss: 0.363..  Test Accuracy: 0.846\n",
      "Epoch: 75/100..  Training Loss: 0.289..  Test Loss: 0.362..  Test Accuracy: 0.846\n",
      "Epoch: 76/100..  Training Loss: 0.289..  Test Loss: 0.361..  Test Accuracy: 0.846\n",
      "Epoch: 77/100..  Training Loss: 0.285..  Test Loss: 0.360..  Test Accuracy: 0.846\n",
      "Epoch: 78/100..  Training Loss: 0.284..  Test Loss: 0.358..  Test Accuracy: 0.844\n",
      "Epoch: 79/100..  Training Loss: 0.284..  Test Loss: 0.357..  Test Accuracy: 0.846\n",
      "Epoch: 80/100..  Training Loss: 0.281..  Test Loss: 0.356..  Test Accuracy: 0.846\n",
      "Epoch: 81/100..  Training Loss: 0.283..  Test Loss: 0.355..  Test Accuracy: 0.844\n",
      "Epoch: 82/100..  Training Loss: 0.277..  Test Loss: 0.354..  Test Accuracy: 0.844\n",
      "Epoch: 83/100..  Training Loss: 0.272..  Test Loss: 0.353..  Test Accuracy: 0.844\n",
      "Epoch: 84/100..  Training Loss: 0.275..  Test Loss: 0.352..  Test Accuracy: 0.844\n",
      "Epoch: 85/100..  Training Loss: 0.274..  Test Loss: 0.352..  Test Accuracy: 0.844\n",
      "Epoch: 86/100..  Training Loss: 0.272..  Test Loss: 0.351..  Test Accuracy: 0.844\n",
      "Epoch: 87/100..  Training Loss: 0.268..  Test Loss: 0.350..  Test Accuracy: 0.844\n",
      "Epoch: 88/100..  Training Loss: 0.268..  Test Loss: 0.349..  Test Accuracy: 0.844\n",
      "Epoch: 89/100..  Training Loss: 0.266..  Test Loss: 0.348..  Test Accuracy: 0.844\n",
      "Epoch: 90/100..  Training Loss: 0.265..  Test Loss: 0.348..  Test Accuracy: 0.844\n",
      "Epoch: 91/100..  Training Loss: 0.268..  Test Loss: 0.347..  Test Accuracy: 0.844\n",
      "Epoch: 92/100..  Training Loss: 0.265..  Test Loss: 0.346..  Test Accuracy: 0.844\n",
      "Epoch: 93/100..  Training Loss: 0.263..  Test Loss: 0.345..  Test Accuracy: 0.846\n",
      "Epoch: 94/100..  Training Loss: 0.261..  Test Loss: 0.345..  Test Accuracy: 0.846\n",
      "Epoch: 95/100..  Training Loss: 0.262..  Test Loss: 0.344..  Test Accuracy: 0.846\n",
      "Epoch: 96/100..  Training Loss: 0.261..  Test Loss: 0.344..  Test Accuracy: 0.846\n",
      "Epoch: 97/100..  Training Loss: 0.257..  Test Loss: 0.343..  Test Accuracy: 0.846\n",
      "Epoch: 98/100..  Training Loss: 0.258..  Test Loss: 0.342..  Test Accuracy: 0.846\n",
      "Epoch: 99/100..  Training Loss: 0.259..  Test Loss: 0.342..  Test Accuracy: 0.846\n",
      "Epoch: 100/100..  Training Loss: 0.255..  Test Loss: 0.341..  Test Accuracy: 0.846\n",
      "CPU times: total: 1.44 s\n",
      "Wall time: 780 ms\n"
     ]
    }
   ],
   "source": [
    "%%time\n",
    "train_losses = []\n",
    "test_losses = []\n",
    "test_accuracies = []\n",
    "\n",
    "epochs = 100\n",
    "for e in range(epochs):\n",
    "    optimizer.zero_grad()\n",
    "\n",
    "    output = model.forward(x_train)\n",
    "    loss = criterion(output, y_train)\n",
    "    loss.backward()\n",
    "    train_loss = loss.item()\n",
    "    train_losses.append(train_loss)\n",
    "    \n",
    "    optimizer.step()\n",
    "\n",
    "    # Turn off gradients for validation, saves memory and computations\n",
    "    with torch.no_grad():\n",
    "        model.eval()\n",
    "        log_ps = model(x_test)\n",
    "        test_loss = criterion(log_ps, y_test)\n",
    "        test_losses.append(test_loss)\n",
    "\n",
    "        ps = torch.exp(log_ps)\n",
    "        top_p, top_class = ps.topk(1, dim=1)\n",
    "        equals = top_class == y_test.view(*top_class.shape)\n",
    "        test_accuracy = torch.mean(equals.float())\n",
    "        test_accuracies.append(test_accuracy)\n",
    "\n",
    "    model.train()\n",
    "\n",
    "    print(f\"Epoch: {e+1}/{epochs}.. \",\n",
    "          f\"Training Loss: {train_loss:.3f}.. \",\n",
    "          f\"Test Loss: {test_loss:.3f}.. \",\n",
    "          f\"Test Accuracy: {test_accuracy:.3f}\")"
   ]
  },
  {
   "cell_type": "code",
   "execution_count": 88,
   "metadata": {},
   "outputs": [
    {
     "data": {
      "image/png": "[encoded data removed]",
      "text/plain": [
       "<Figure size 864x360 with 2 Axes>"
      ]
     },
     "metadata": {
      "needs_background": "light"
     },
     "output_type": "display_data"
    }
   ],
   "source": [
    "plt.figure(figsize=(12, 5))\n",
    "ax = plt.subplot(121)\n",
    "plt.xlabel('epochs')\n",
    "plt.ylabel('negative log likelihood loss')\n",
    "plt.plot(train_losses, label='Training loss')\n",
    "plt.plot(test_losses, label='Validation loss')\n",
    "plt.legend(frameon=False);\n",
    "plt.subplot(122)\n",
    "plt.xlabel('epochs')\n",
    "plt.ylabel('test accuracy')\n",
    "plt.plot(test_accuracies);"
   ]
  },
  {
   "cell_type": "markdown",
   "metadata": {},
   "source": [
    "# Metrics"
   ]
  },
  {
   "cell_type": "code",
   "execution_count": 89,
   "metadata": {},
   "outputs": [],
   "source": [
    "y_test_pred = model(x_test)"
   ]
  },
  {
   "cell_type": "code",
   "execution_count": 90,
   "metadata": {},
   "outputs": [
    {
     "data": {
      "text/plain": [
       "tensor([[-6.7345e-02, -2.7314e+00],\n",
       "        [-2.3790e+00, -9.7217e-02],\n",
       "        [-9.3873e-03, -4.6731e+00],\n",
       "        [-4.0998e-03, -5.4989e+00],\n",
       "        [-5.4222e-03, -5.2200e+00]], grad_fn=<SliceBackward0>)"
      ]
     },
     "execution_count": 90,
     "metadata": {},
     "output_type": "execute_result"
    }
   ],
   "source": [
    "y_test_pred[:5]"
   ]
  },
  {
   "cell_type": "code",
   "execution_count": 91,
   "metadata": {},
   "outputs": [],
   "source": [
    "# get predictions from the tensor\n",
    "pred = y_test_pred.max(1).indices"
   ]
  },
  {
   "cell_type": "code",
   "execution_count": 92,
   "metadata": {},
   "outputs": [
    {
     "data": {
      "text/plain": [
       "tensor([0, 1, 0, 0, 0, 0, 0, 1, 0, 1, 1, 0, 0, 1, 0, 1, 0, 1, 0, 1, 1, 1, 1, 1,\n",
       "        0, 1, 1, 1, 1, 0, 0, 1, 0, 1, 0, 1, 0, 1, 0, 0, 1, 0, 1, 1, 1, 0, 1, 1,\n",
       "        1, 1, 1, 1, 0, 1, 0, 1, 0, 1, 0, 1, 0, 0, 0, 1, 1, 0, 1, 1, 0, 1, 1, 0,\n",
       "        0, 0, 1, 0, 1, 0, 1, 0, 0, 1, 0, 0, 0, 1, 1, 1, 0, 1, 0, 1, 0, 0, 0, 1,\n",
       "        1, 1, 1, 1, 1, 1, 1, 0, 1, 1, 0, 0, 0, 1, 1, 1, 0, 1, 1, 0, 1, 1, 1, 1,\n",
       "        0, 1, 0, 1, 1, 1, 0, 1, 1, 0, 0, 1, 1, 0, 1, 0, 1, 1, 0, 0, 0, 0, 1, 0,\n",
       "        1, 1, 0, 1, 1, 0, 1, 0, 0, 1, 1, 0, 1, 1, 1, 0, 1, 1, 1, 0, 1, 0, 1, 1,\n",
       "        1, 1, 0, 1, 0, 0, 1, 1, 1, 1, 0, 1, 1, 1, 1, 0, 0, 1, 0, 1, 1, 0, 0, 0,\n",
       "        1, 0, 1, 0, 1, 1, 1, 1, 0, 0, 1, 0, 1, 1, 0, 0, 0, 0, 1, 1, 0, 0, 1, 0,\n",
       "        0, 0, 1, 1, 1, 1, 1, 1, 1, 1, 0, 0, 0, 1, 0, 0, 1, 1, 1, 1, 1, 1, 0, 1,\n",
       "        1, 1, 0, 1, 1, 0, 0, 1, 1, 1, 0, 1, 0, 1, 0, 0, 1, 0, 1, 1, 1, 0, 0, 0,\n",
       "        1, 1, 1, 0, 0, 1, 1, 1, 0, 1, 1, 1, 1, 0, 1, 0, 1, 0, 1, 0, 1, 1, 0, 0,\n",
       "        0, 0, 1, 1, 1, 1, 1, 1, 0, 1, 0, 1, 0, 0, 0, 1, 0, 1, 1, 0, 0, 1, 0, 1,\n",
       "        1, 1, 0, 1, 0, 0, 0, 0, 1, 0, 1, 1, 1, 1, 0, 0, 0, 1, 1, 1, 1, 1, 0, 1,\n",
       "        0, 0, 1, 0, 0, 0, 1, 0, 1, 1, 0, 1, 1, 1, 0, 1, 1, 1, 1, 1, 1, 0, 1, 1,\n",
       "        0, 1, 1, 1, 0, 1, 0, 1, 1, 1, 1, 0, 0, 1, 1, 0, 1, 1, 0, 1, 1, 0, 0, 0,\n",
       "        1, 1, 1, 1, 0, 1])"
      ]
     },
     "execution_count": 92,
     "metadata": {},
     "output_type": "execute_result"
    }
   ],
   "source": [
    "pred"
   ]
  },
  {
   "cell_type": "code",
   "execution_count": 93,
   "metadata": {},
   "outputs": [
    {
     "data": {
      "text/plain": [
       "tensor([0, 1, 0, 0, 0, 0, 0, 1, 0, 1, 0, 0, 0, 1, 0, 1, 0, 1, 0, 1, 1, 1, 1, 1,\n",
       "        0, 0, 0, 1, 0, 0, 0, 1, 0, 0, 1, 1, 0, 1, 1, 0, 0, 0, 1, 1, 1, 0, 1, 1,\n",
       "        1, 0, 1, 0, 0, 1, 0, 1, 0, 1, 0, 1, 0, 0, 0, 0, 0, 0, 1, 0, 0, 1, 1, 0,\n",
       "        0, 0, 1, 0, 1, 0, 1, 0, 0, 1, 0, 0, 0, 0, 1, 1, 0, 0, 1, 1, 0, 0, 0, 0,\n",
       "        1, 1, 1, 1, 0, 0, 1, 0, 1, 1, 0, 0, 0, 1, 0, 1, 0, 0, 1, 1, 1, 1, 1, 1,\n",
       "        0, 1, 0, 1, 0, 1, 0, 1, 0, 0, 0, 1, 1, 0, 1, 0, 1, 0, 0, 1, 0, 0, 1, 0,\n",
       "        1, 1, 0, 1, 1, 0, 1, 1, 1, 1, 1, 0, 1, 0, 1, 0, 1, 0, 1, 0, 1, 0, 0, 0,\n",
       "        1, 1, 0, 1, 0, 0, 1, 1, 1, 1, 0, 1, 1, 1, 1, 0, 0, 1, 0, 1, 1, 0, 0, 0,\n",
       "        1, 1, 1, 0, 1, 1, 1, 0, 0, 0, 1, 0, 0, 1, 0, 0, 0, 0, 1, 1, 0, 0, 1, 0,\n",
       "        0, 0, 1, 1, 1, 1, 0, 1, 1, 1, 0, 0, 1, 1, 0, 0, 1, 1, 1, 1, 1, 0, 0, 1,\n",
       "        1, 1, 0, 1, 1, 0, 0, 1, 0, 1, 0, 1, 0, 0, 0, 0, 0, 0, 1, 1, 1, 0, 0, 0,\n",
       "        1, 1, 0, 0, 0, 1, 1, 1, 0, 1, 1, 1, 1, 0, 1, 0, 1, 0, 1, 0, 1, 0, 0, 0,\n",
       "        0, 0, 1, 1, 1, 1, 1, 1, 0, 1, 0, 1, 1, 0, 0, 1, 0, 1, 1, 0, 0, 1, 0, 1,\n",
       "        0, 1, 0, 1, 0, 0, 1, 0, 1, 0, 1, 1, 1, 1, 0, 0, 0, 1, 1, 1, 1, 0, 0, 1,\n",
       "        1, 0, 1, 0, 0, 0, 1, 0, 0, 1, 0, 1, 1, 1, 0, 1, 1, 1, 1, 1, 0, 0, 1, 1,\n",
       "        0, 0, 1, 1, 0, 0, 0, 1, 1, 1, 1, 0, 1, 1, 0, 0, 1, 1, 1, 1, 1, 0, 0, 0,\n",
       "        1, 1, 1, 1, 0, 0])"
      ]
     },
     "execution_count": 93,
     "metadata": {},
     "output_type": "execute_result"
    }
   ],
   "source": [
    "y_test"
   ]
  },
  {
   "cell_type": "code",
   "execution_count": 94,
   "metadata": {},
   "outputs": [
    {
     "data": {
      "text/plain": [
       "42"
      ]
     },
     "execution_count": 94,
     "metadata": {},
     "output_type": "execute_result"
    }
   ],
   "source": [
    "# Number of false positives\n",
    "np.count_nonzero( np.greater(pred.cpu().detach().numpy(), y_test.cpu().detach().numpy()) )"
   ]
  },
  {
   "cell_type": "code",
   "execution_count": 95,
   "metadata": {},
   "outputs": [
    {
     "data": {
      "text/plain": [
       "14"
      ]
     },
     "execution_count": 95,
     "metadata": {},
     "output_type": "execute_result"
    }
   ],
   "source": [
    "# Number of false negatives\n",
    "np.count_nonzero( np.greater(y_test.cpu().detach().numpy(), pred.cpu().detach().numpy()) )"
   ]
  },
  {
   "cell_type": "code",
   "execution_count": 96,
   "metadata": {},
   "outputs": [
    {
     "data": {
      "text/plain": [
       "array([[149,  42],\n",
       "       [ 14, 185]], dtype=int64)"
      ]
     },
     "execution_count": 96,
     "metadata": {},
     "output_type": "execute_result"
    }
   ],
   "source": [
    "conf_mat = confusion_matrix(y_true = y_test, y_pred = pred)\n",
    "conf_mat"
   ]
  },
  {
   "cell_type": "code",
   "execution_count": 97,
   "metadata": {
    "colab": {
     "base_uri": "https://localhost:8080/",
     "height": 410
    },
    "id": "Xd-UfWuLnDAA",
    "outputId": "ba43f602-49a8-471b-bd93-59e57832a11b"
   },
   "outputs": [
    {
     "data": {
      "image/png": "[encoded data removed]",
      "text/plain": [
       "<Figure size 576x432 with 2 Axes>"
      ]
     },
     "metadata": {
      "needs_background": "light"
     },
     "output_type": "display_data"
    }
   ],
   "source": [
    "fig, ax = plt.subplots(figsize=(8, 6))\n",
    "sns.heatmap(\n",
    "    conf_mat,\n",
    "    annot=True,\n",
    "    fmt=\"d\"\n",
    ")\n",
    "plt.ylabel(\"Actual\")\n",
    "plt.xlabel(\"Predicted\")\n",
    "plt.show()"
   ]
  },
  {
   "cell_type": "markdown",
   "metadata": {},
   "source": [
    "Note - high false positive amount indicates that more work needs to be done in the field of feature extraction."
   ]
  },
  {
   "attachments": {
    "5ffc0549-6394-46ec-9a7c-de048fa60b09.png": {
     "image/png": "[encoded data removed]"
    }
   },
   "cell_type": "markdown",
   "metadata": {},
   "source": [
    "![image.png](attachment:5ffc0549-6394-46ec-9a7c-de048fa60b09.png)"
   ]
  },
  {
   "cell_type": "code",
   "execution_count": 98,
   "metadata": {},
   "outputs": [
    {
     "name": "stdout",
     "output_type": "stream",
     "text": [
      "              precision    recall  f1-score   support\n",
      "\n",
      "           0       0.91      0.78      0.84       191\n",
      "           1       0.81      0.93      0.87       199\n",
      "\n",
      "    accuracy                           0.86       390\n",
      "   macro avg       0.86      0.85      0.86       390\n",
      "weighted avg       0.86      0.86      0.86       390\n",
      "\n"
     ]
    }
   ],
   "source": [
    "print(classification_report(y_true = y_test, y_pred = pred))"
   ]
  },
  {
   "cell_type": "code",
   "execution_count": null,
   "metadata": {},
   "outputs": [],
   "source": [
    "# Precision – What percent of the predictions were correct?      Precision = TP / (TP + FP)\n",
    "# Recall – What percent of the positive cases did you catch?     Recall = TP / (TP + FN))\n",
    "# F1 score – What percent of positive predictions were correct?  F1 Score = 2*(Recall * Precision) / (Recall + Precision)\n",
    "# Support - is the number of occurence of the given class in the dataset. Shows imbalance in the dataset."
   ]
  }
 ],
 "metadata": {
  "accelerator": "GPU",
  "colab": {
   "collapsed_sections": [],
   "name": "Consumer_complaints.ipynb",
   "provenance": []
  },
  "kernelspec": {
   "display_name": "Python 3 (ipykernel)",
   "language": "python",
   "name": "python3"
  },
  "language_info": {
   "codemirror_mode": {
    "name": "ipython",
    "version": 3
   },
   "file_extension": ".py",
   "mimetype": "text/x-python",
   "name": "python",
   "nbconvert_exporter": "python",
   "pygments_lexer": "ipython3",
   "version": "3.10.5"
  }
 },
 "nbformat": 4,
 "nbformat_minor": 4
}
