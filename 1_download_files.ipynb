{
 "cells": [
  {
   "cell_type": "code",
   "execution_count": 2,
   "id": "8b9f9c6f-53ab-4a95-a7a0-87c4fe2241c3",
   "metadata": {},
   "outputs": [],
   "source": [
    "#!pip install boto3"
   ]
  },
  {
   "cell_type": "code",
   "execution_count": 3,
   "id": "cd7d2b3d-9a75-4506-a268-cd116b9bc018",
   "metadata": {},
   "outputs": [
    {
     "name": "stdout",
     "output_type": "stream",
     "text": [
      "Python 3.10.5\n"
     ]
    }
   ],
   "source": [
    "# Developed with Python version 3.10.5\n",
    "!python --version"
   ]
  },
  {
   "cell_type": "code",
   "execution_count": 4,
   "id": "87d1e31d-c8f0-4997-9a84-f561ae63c58a",
   "metadata": {},
   "outputs": [],
   "source": [
    "import boto3\n",
    "import os"
   ]
  },
  {
   "cell_type": "markdown",
   "id": "57630ad7-5bac-4b88-b2b6-2d0624325074",
   "metadata": {},
   "source": [
    "# Amazon S3 client"
   ]
  },
  {
   "cell_type": "code",
   "execution_count": 5,
   "id": "f1781334-f983-493b-84ea-af7194f2470a",
   "metadata": {},
   "outputs": [],
   "source": [
    "# s3 client\n",
    "s3 = boto3.client(\"s3\")"
   ]
  },
  {
   "cell_type": "markdown",
   "id": "72a6c3a0-0f1f-408a-ac24-f1a04f5ca449",
   "metadata": {},
   "source": [
    "# Download clean files"
   ]
  },
  {
   "cell_type": "code",
   "execution_count": 6,
   "id": "e55c5a08-f6dd-44f3-8e3b-0f12668771c7",
   "metadata": {},
   "outputs": [],
   "source": [
    "# Get the content of a backet\n",
    "kwargs = {\n",
    "        \"Bucket\": 's3-nord-challenge-data',\n",
    "        \"Prefix\": '0'\n",
    "    }\n",
    "\n",
    "response = s3.list_objects_v2(**kwargs)\n",
    "contents_0 = response.get(\"Contents\")"
   ]
  },
  {
   "cell_type": "code",
   "execution_count": 7,
   "id": "c61c7acf-25e0-4217-b4e5-48614661bc99",
   "metadata": {},
   "outputs": [
    {
     "data": {
      "text/plain": [
       "[{'Key': '0/00ELuByj9iSRf5Rx11Ypl15N6kS2FXmW.dll',\n",
       "  'LastModified': datetime.datetime(2021, 2, 9, 14, 38, 2, tzinfo=tzutc()),\n",
       "  'ETag': '\"f3050955227bba05619ed4f88be57a91\"',\n",
       "  'Size': 3919,\n",
       "  'StorageClass': 'STANDARD'},\n",
       " {'Key': '0/00Tree.html',\n",
       "  'LastModified': datetime.datetime(2021, 2, 18, 10, 9, 5, tzinfo=tzutc()),\n",
       "  'ETag': '\"b22595ee5d47635f0de33e165cc7ba11\"',\n",
       "  'Size': 1112043,\n",
       "  'StorageClass': 'STANDARD'},\n",
       " {'Key': '0/01nCLd7AG7XAlI0JH9G2E3rFbuahjIaD.dll',\n",
       "  'LastModified': datetime.datetime(2021, 2, 9, 14, 38, 2, tzinfo=tzutc()),\n",
       "  'ETag': '\"279934e67294e52903b1aa216070f0b1\"',\n",
       "  'Size': 711680,\n",
       "  'StorageClass': 'STANDARD'}]"
      ]
     },
     "execution_count": 7,
     "metadata": {},
     "output_type": "execute_result"
    }
   ],
   "source": [
    "contents_0[:3]"
   ]
  },
  {
   "cell_type": "code",
   "execution_count": 10,
   "id": "078a0e4d-d819-4bc7-af2a-843b75d862b6",
   "metadata": {},
   "outputs": [
    {
     "data": {
      "text/plain": [
       "1000"
      ]
     },
     "execution_count": 10,
     "metadata": {},
     "output_type": "execute_result"
    }
   ],
   "source": [
    "len(contents_0)"
   ]
  },
  {
   "cell_type": "code",
   "execution_count": 8,
   "id": "f4a665dc-06e3-486c-8723-c451ef8191cc",
   "metadata": {},
   "outputs": [
    {
     "data": {
      "text/plain": [
       "'0/03YwEFZXYMttcHi0xmDoTEAHvqIbHlc1.DLL'"
      ]
     },
     "execution_count": 8,
     "metadata": {},
     "output_type": "execute_result"
    }
   ],
   "source": [
    "contents_0[5]['Key']"
   ]
  },
  {
   "cell_type": "code",
   "execution_count": null,
   "id": "11ec7271-d7f8-4b89-b19e-60b5ec7a0486",
   "metadata": {},
   "outputs": [],
   "source": [
    "for content in contents_0:\n",
    "    try:\n",
    "        key = content['Key']\n",
    "        s3.download_file('s3-nord-challenge-data', key, './' + key)\n",
    "    except Exception as e:\n",
    "        print(e)"
   ]
  },
  {
   "cell_type": "markdown",
   "id": "56d8367c-b086-40c3-98b0-18c19db6e0b2",
   "metadata": {},
   "source": [
    "# Download malicious files"
   ]
  },
  {
   "cell_type": "code",
   "execution_count": 11,
   "id": "09456427-b500-4616-86e3-34228aca00f1",
   "metadata": {},
   "outputs": [],
   "source": [
    "# Get the content of a backet\n",
    "kwargs = {\n",
    "        \"Bucket\": 's3-nord-challenge-data',\n",
    "        \"Prefix\": '1'\n",
    "    }\n",
    "\n",
    "response = s3.list_objects_v2(**kwargs)\n",
    "contents_1 = response.get(\"Contents\")"
   ]
  },
  {
   "cell_type": "code",
   "execution_count": 12,
   "id": "30346aa9-f040-4643-9480-46d64168c6e6",
   "metadata": {},
   "outputs": [
    {
     "data": {
      "text/plain": [
       "[{'Key': '1/00G8W57Cz6gRc0Xl41jSEMIFLR9iLDOx.exe',\n",
       "  'LastModified': datetime.datetime(2021, 2, 9, 14, 42, 38, tzinfo=tzutc()),\n",
       "  'ETag': '\"fb813364b50728d6d0c2e3f1981f26f6\"',\n",
       "  'Size': 866312,\n",
       "  'StorageClass': 'STANDARD'},\n",
       " {'Key': '1/00Nb1Q3mxXNb6fvAp3SrscnVWACdUwpM.exe',\n",
       "  'LastModified': datetime.datetime(2021, 2, 9, 14, 42, 38, tzinfo=tzutc()),\n",
       "  'ETag': '\"db8f2a76322947189c364044d791529c\"',\n",
       "  'Size': 118784,\n",
       "  'StorageClass': 'STANDARD'},\n",
       " {'Key': '1/00Tree.html',\n",
       "  'LastModified': datetime.datetime(2021, 2, 18, 10, 9, 12, tzinfo=tzutc()),\n",
       "  'ETag': '\"40495c79b26d72c83cd0da66d2611780\"',\n",
       "  'Size': 1555443,\n",
       "  'StorageClass': 'STANDARD'}]"
      ]
     },
     "execution_count": 12,
     "metadata": {},
     "output_type": "execute_result"
    }
   ],
   "source": [
    "contents_1[:3]"
   ]
  },
  {
   "cell_type": "code",
   "execution_count": 13,
   "id": "6be23c25-ad7a-45bc-bd76-059b91001070",
   "metadata": {},
   "outputs": [
    {
     "data": {
      "text/plain": [
       "1000"
      ]
     },
     "execution_count": 13,
     "metadata": {},
     "output_type": "execute_result"
    }
   ],
   "source": [
    "len(contents_1)"
   ]
  },
  {
   "cell_type": "code",
   "execution_count": null,
   "id": "d8389979-d282-4437-a24e-bc3402a48d5e",
   "metadata": {},
   "outputs": [],
   "source": [
    "for content in contents_1:\n",
    "    try:\n",
    "        key = content['Key']\n",
    "        s3.download_file('s3-nord-challenge-data', key, './' + key)\n",
    "    except Exception as e:\n",
    "        print(e)"
   ]
  },
  {
   "cell_type": "code",
   "execution_count": null,
   "id": "b0f408ad-dfde-433e-bfca-6f3412cdb5b4",
   "metadata": {},
   "outputs": [],
   "source": []
  }
 ],
 "metadata": {
  "kernelspec": {
   "display_name": "Python 3 (ipykernel)",
   "language": "python",
   "name": "python3"
  },
  "language_info": {
   "codemirror_mode": {
    "name": "ipython",
    "version": 3
   },
   "file_extension": ".py",
   "mimetype": "text/x-python",
   "name": "python",
   "nbconvert_exporter": "python",
   "pygments_lexer": "ipython3",
   "version": "3.10.5"
  }
 },
 "nbformat": 4,
 "nbformat_minor": 5
}
